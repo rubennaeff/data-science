{
 "cells": [
  {
   "cell_type": "code",
   "execution_count": 66,
   "id": "1c6db624",
   "metadata": {},
   "outputs": [],
   "source": [
    "import numpy as np\n",
    "from time import time"
   ]
  },
  {
   "cell_type": "code",
   "execution_count": null,
   "id": "f0451464",
   "metadata": {},
   "outputs": [],
   "source": []
  },
  {
   "cell_type": "code",
   "execution_count": null,
   "id": "9115d08b",
   "metadata": {},
   "outputs": [],
   "source": []
  },
  {
   "cell_type": "code",
   "execution_count": 213,
   "id": "145704ac",
   "metadata": {},
   "outputs": [],
   "source": [
    "def test_sort(func):\n",
    "    t = time()\n",
    "\n",
    "    a = np.array([4, 3, 2, 1])\n",
    "    a = np.array(func(a))\n",
    "    assert (np.array(a - np.array([1, 2, 3, 4])) ** 2).sum() == 0\n",
    "\n",
    "    a = np.random.permutation(10)\n",
    "    b = a.copy()\n",
    "    a = np.array(func(a))\n",
    "    assert (np.array(a - sorted(b)) ** 2).sum() == 0\n",
    "\n",
    "    for _ in range(100):\n",
    "        a = np.random.permutation(1000)\n",
    "        func(a)\n",
    "\n",
    "    return time() - t"
   ]
  },
  {
   "cell_type": "code",
   "execution_count": null,
   "id": "45e28248",
   "metadata": {},
   "outputs": [],
   "source": []
  },
  {
   "cell_type": "markdown",
   "id": "1ab80bc6",
   "metadata": {},
   "source": [
    "#### naive sort $O(n^2)$"
   ]
  },
  {
   "cell_type": "code",
   "execution_count": 214,
   "id": "76379ede",
   "metadata": {},
   "outputs": [],
   "source": [
    "def naivesort(a):\n",
    "    \"\"\"Return sorted a, the wrong way.\"\"\"\n",
    "    a = list(a)\n",
    "    sorted_a = []\n",
    "    while len(a):\n",
    "        smallest_i = None\n",
    "        for i, x in enumerate(a):\n",
    "            smallest_i = i if (smallest_i is None) or (a[i] < a[smallest_i]) else smallest_i\n",
    "        sorted_a.append(a.pop(smallest_i))\n",
    "    return sorted_a\n"
   ]
  },
  {
   "cell_type": "code",
   "execution_count": 215,
   "id": "cc66182e",
   "metadata": {},
   "outputs": [
    {
     "data": {
      "text/plain": [
       "1.7066919803619385"
      ]
     },
     "execution_count": 215,
     "metadata": {},
     "output_type": "execute_result"
    }
   ],
   "source": [
    "test_sort(naivesort)"
   ]
  },
  {
   "cell_type": "code",
   "execution_count": null,
   "id": "c2aa224e",
   "metadata": {},
   "outputs": [],
   "source": []
  },
  {
   "cell_type": "code",
   "execution_count": null,
   "id": "1029b882",
   "metadata": {},
   "outputs": [],
   "source": []
  },
  {
   "cell_type": "markdown",
   "id": "8bedc216",
   "metadata": {},
   "source": [
    "#### mergesort"
   ]
  },
  {
   "cell_type": "code",
   "execution_count": 216,
   "id": "c4e0ce0f",
   "metadata": {},
   "outputs": [],
   "source": [
    "def mergesort(a, l=None, r=None):\n",
    "    \"\"\"Return sorted a. Including l, excluding r.\"\"\"\n",
    "    l = 0 if l is None else l\n",
    "    r = len(a) if r is None else r\n",
    "    \n",
    "    if l < r - 1:  # at least two elements: [l, l + 1 <= r - 1]\n",
    "        mid = (l + r) // 2  # 0..2 --> 1, 0..3 --> 1\n",
    "        mergesort(a, l, mid)  # [0]\n",
    "        mergesort(a, mid, r)  # [1, (2)]\n",
    "\n",
    "        # now merge\n",
    "        left, right = a[l:mid].copy(), a[mid:r].copy()\n",
    "        i, j = 0, 0\n",
    "        n, m = mid - l, r - mid\n",
    "        for k in range(l, r):\n",
    "            if j == m or (i < n and left[i] < right[j]):\n",
    "                a[k] = left[i]\n",
    "                i += 1\n",
    "            else:\n",
    "                a[k] = right[j]\n",
    "                j += 1\n",
    "                \n",
    "        return a  # also changed in-place, but return just for ease later"
   ]
  },
  {
   "cell_type": "code",
   "execution_count": 217,
   "id": "9c36854a",
   "metadata": {},
   "outputs": [
    {
     "name": "stdout",
     "output_type": "stream",
     "text": [
      "0.2880868911743164\n",
      "0.2540709972381592\n",
      "0.25176405906677246\n",
      "0.2529878616333008\n",
      "0.25121307373046875\n"
     ]
    }
   ],
   "source": [
    "for _ in range(5):\n",
    "    print(test_sort(mergesort))"
   ]
  },
  {
   "cell_type": "code",
   "execution_count": null,
   "id": "f8bfefac",
   "metadata": {},
   "outputs": [],
   "source": []
  },
  {
   "cell_type": "code",
   "execution_count": null,
   "id": "3e1fed0d",
   "metadata": {},
   "outputs": [],
   "source": []
  },
  {
   "cell_type": "markdown",
   "id": "b353ce9b",
   "metadata": {},
   "source": [
    "#### quicksort"
   ]
  },
  {
   "cell_type": "code",
   "execution_count": 218,
   "id": "8b443061",
   "metadata": {},
   "outputs": [],
   "source": [
    "def quicksort(a):\n",
    "    \"\"\"Return sorted a.\"\"\"\n",
    "    n = len(a)   \n",
    "    if n <= 1:\n",
    "        return a\n",
    "    \n",
    "    p = np.random.choice(n)\n",
    "\n",
    "    left, right = [], []\n",
    "    for i, x in enumerate(a):\n",
    "        if i == p:\n",
    "            pass\n",
    "        elif x < a[p]:\n",
    "            left.append(x)\n",
    "        else:\n",
    "            right.append(x)\n",
    "\n",
    "    return quicksort(left) + [a[p]] + quicksort(right)\n"
   ]
  },
  {
   "cell_type": "code",
   "execution_count": 220,
   "id": "1f6814c0",
   "metadata": {},
   "outputs": [
    {
     "name": "stdout",
     "output_type": "stream",
     "text": [
      "0.305372953414917\n",
      "0.2873969078063965\n",
      "0.290391206741333\n",
      "0.3024420738220215\n",
      "0.29720401763916016\n"
     ]
    }
   ],
   "source": [
    "for _ in range(5):\n",
    "    print(test_sort(quicksort))"
   ]
  },
  {
   "cell_type": "code",
   "execution_count": null,
   "id": "03443660",
   "metadata": {},
   "outputs": [],
   "source": []
  },
  {
   "cell_type": "code",
   "execution_count": null,
   "id": "b92aba30",
   "metadata": {},
   "outputs": [],
   "source": []
  }
 ],
 "metadata": {
  "kernelspec": {
   "display_name": "Python 3 (ipykernel)",
   "language": "python",
   "name": "python3"
  },
  "language_info": {
   "codemirror_mode": {
    "name": "ipython",
    "version": 3
   },
   "file_extension": ".py",
   "mimetype": "text/x-python",
   "name": "python",
   "nbconvert_exporter": "python",
   "pygments_lexer": "ipython3",
   "version": "3.11.7"
  }
 },
 "nbformat": 4,
 "nbformat_minor": 5
}
