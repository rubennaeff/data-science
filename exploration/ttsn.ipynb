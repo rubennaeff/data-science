{
 "cells": [
  {
   "cell_type": "markdown",
   "id": "4566c6b3-ec88-42e8-ba46-662c676ce7a6",
   "metadata": {},
   "source": [
    "### Recommender example"
   ]
  },
  {
   "cell_type": "code",
   "execution_count": 1,
   "id": "c7bd0504-5336-4584-854d-c5e7da953e4f",
   "metadata": {},
   "outputs": [],
   "source": [
    "import numpy as np\n",
    "import pandas as pd\n",
    "from sklearn.metrics import roc_auc_score\n",
    "from scipy import stats as st\n",
    "from matplotlib import pyplot as plt\n",
    "import seaborn as sns\n",
    "sns.set()"
   ]
  },
  {
   "cell_type": "code",
   "execution_count": 2,
   "id": "daf94f82-910c-403a-9f43-2e9c700f09b0",
   "metadata": {},
   "outputs": [],
   "source": [
    "import torch\n",
    "import torch.nn as nn\n",
    "import torch.optim as optim"
   ]
  },
  {
   "cell_type": "code",
   "execution_count": 3,
   "id": "0f813770-27cc-4ee0-a162-7fad867d64d0",
   "metadata": {},
   "outputs": [],
   "source": [
    "sigmoid = lambda x: 1. / (1. + np.exp(-x))"
   ]
  },
  {
   "cell_type": "code",
   "execution_count": 4,
   "id": "f4372d6d-a12c-48c3-8486-70f6c6c5485d",
   "metadata": {},
   "outputs": [],
   "source": [
    "def is_numeric(x):\n",
    "    try:\n",
    "        x + 1\n",
    "    except:\n",
    "        return False\n",
    "    else:\n",
    "        return True\n",
    "\n",
    "# [(x, is_numeric(x)) for x in [0, 1, 2.345, 'hello', None, {12: 34}, [12, 23]]]"
   ]
  },
  {
   "cell_type": "code",
   "execution_count": null,
   "id": "41e10aee-dfc0-493b-aaea-357a3a5449ba",
   "metadata": {},
   "outputs": [],
   "source": []
  },
  {
   "cell_type": "code",
   "execution_count": 5,
   "id": "bd8b43a4-f08e-436a-94e6-3887422e8a68",
   "metadata": {},
   "outputs": [],
   "source": [
    "class MLP(nn.Module):\n",
    "    def __init__(self, input_dim, hidden_dims, output_dim):\n",
    "        super().__init__()\n",
    "        layers = []\n",
    "        for h in hidden_dims:\n",
    "            layers.append(nn.Linear(input_dim, h))\n",
    "            layers.append(nn.ReLU())\n",
    "            input_dim = h\n",
    "        layers.append(nn.Linear(input_dim, output_dim))\n",
    "        self.model = nn.Sequential(*layers)\n",
    "\n",
    "    def forward(self, x):\n",
    "        return self.model(x)"
   ]
  },
  {
   "cell_type": "code",
   "execution_count": 6,
   "id": "87186d83-a710-4a6d-9e9f-5ffc5b798490",
   "metadata": {},
   "outputs": [],
   "source": [
    "# Ruben's version\n",
    "class TwoTowerModel(nn.Module):\n",
    "    def __init__(self, users, items, embedding_dim=2, hidden_dims=[]):\n",
    "        \"\"\"users and items dataframes with columns as features.\"\"\"\n",
    "\n",
    "        super().__init__()       \n",
    "        self.n_users, self.n_items, self.emb_dim = len(users), len(items), embedding_dim\n",
    "        assert users.notnull().all().all() and items.notnull().all().all()\n",
    "        \n",
    "        self.user_emb = nn.Embedding(self.n_users, embedding_dim)\n",
    "        self.item_emb = nn.Embedding(self.n_items, embedding_dim)\n",
    "        self.cat_emb = [[], []]  # users, items\n",
    "        self.cat_features = [[], []]  # users, items\n",
    "        self.num_features = [[], []]  # users, items\n",
    "        \n",
    "        self.features = [[], []]\n",
    "        for i, df in enumerate([users, items]):\n",
    "            for col in df:\n",
    "                is_num = is_numeric(df[col].iloc[0])\n",
    "                if is_num:\n",
    "                    self.num_features[i].append(torch.Tensor(df[[col]].values))  # store as Tensor\n",
    "                    # print(self.features)\n",
    "                else:\n",
    "                    cat_ids, cat_names = df[col].factorize()\n",
    "                    emb = nn.Embedding(len(cat_names), self.emb_dim)\n",
    "                    self.cat_emb[i].append({'i': i, 'feature': col, 'categories': cat_names, 'emb': emb})\n",
    "                    self.cat_features[i].append(np.array(cat_ids))  # np.arrays\n",
    "\n",
    "        self.user_tower = MLP((1 + len(self.cat_emb[0])) * self.emb_dim + len(self.num_features[0]), hidden_dims, self.emb_dim)\n",
    "        self.item_tower = MLP((1 + len(self.cat_emb[1])) * self.emb_dim + len(self.num_features[1]), hidden_dims, self.emb_dim)\n",
    "\n",
    "\n",
    "    def forward(self, user_ids, item_ids):\n",
    "\n",
    "        # User tower\n",
    "        user_input = torch.cat(\n",
    "            [self.user_emb(user_ids)] + \n",
    "            [emb['emb'](torch.Tensor(features[user_ids]).long()) for emb, features in zip(self.cat_emb[0], self.cat_features[0])] +\n",
    "            [vals[user_ids] for vals in self.num_features[0]], dim=1)\n",
    "        user_vec = self.user_tower(user_input)\n",
    "\n",
    "        # Item tower input\n",
    "        item_input = torch.cat(\n",
    "            [self.item_emb(item_ids)] + \n",
    "            [emb['emb'](torch.Tensor(features[item_ids]).long()) for emb, features in zip(self.cat_emb[1], self.cat_features[1])] +\n",
    "            [vals[item_ids] for vals in self.num_features[1]], dim=1)\n",
    "        item_vec = self.item_tower(item_input)\n",
    "\n",
    "        # Dot product similarity\n",
    "        logits = (user_vec * item_vec).sum(dim=1)\n",
    "        return logits"
   ]
  },
  {
   "cell_type": "code",
   "execution_count": 7,
   "id": "2ac7308b-4bb4-4254-a7cd-26428a3e8b0d",
   "metadata": {},
   "outputs": [
    {
     "name": "stdout",
     "output_type": "stream",
     "text": [
      "See 20.00% of all possible interactions.\n",
      "(500, 20) 0.6086181505987671\n",
      "0.6255\n"
     ]
    }
   ],
   "source": [
    "# Simulate user and item interactions\n",
    "n_users = 500  # 1000\n",
    "n_items = 20  # 500\n",
    "n_imp = 2000\n",
    "true_emb_dim = 16  # using this to simulate true interests\n",
    "print(\"See %.2f%% of all possible interactions.\" % (100. * n_imp / (n_users * n_items)))\n",
    "\n",
    "np.random.seed(123)\n",
    "genders = ['male', 'non-binary', 'female']\n",
    "users = pd.DataFrame({\n",
    "    'age': np.maximum(18, 40 + 15 * np.random.randn(n_users)).astype(int),\n",
    "    'gender': np.random.choice(genders, n_users, p=[.49, .49, .02]),\n",
    "})\n",
    "topics = ['food', 'culture', 'civics', 'sports', 'science', 'business']  # just random categories\n",
    "items = pd.DataFrame({\n",
    "    'topic': np.random.choice(topics, n_items),  # uniform distribution\n",
    "})\n",
    "\n",
    "cat_features = [genders, topics]\n",
    "cat_emb = {category: np.random.randn(true_emb_dim) for feature in cat_features for category in feature}\n",
    "emb = np.random.randn(n_users, true_emb_dim) \\\n",
    "    + (users['age'] / users['age'].max()).values.reshape(-1, 1) \\\n",
    "    + np.array(users['gender'].map(cat_emb).tolist())\n",
    "emb = (emb - emb.mean(axis=1).reshape(-1, 1)) / emb.std(axis=1).reshape(-1, 1) \n",
    "user_true_emb = emb \n",
    "emb = np.random.randn(n_items, true_emb_dim) + np.array(items['topic'].map(cat_emb).tolist())\n",
    "emb = (emb - emb.mean(axis=1).reshape(-1, 1)) / emb.std(axis=1).reshape(-1, 1)\n",
    "item_true_emb = emb\n",
    "\n",
    "p_true = sigmoid(user_true_emb.dot(item_true_emb.T))  # true proability of user i liking item j\n",
    "print(p_true.shape, p_true.mean())\n",
    "\n",
    "# generate responses\n",
    "torch.manual_seed(123)\n",
    "user_ids = torch.randint(0, n_users, (n_imp,))\n",
    "item_ids = torch.randint(0, n_items, (n_imp,))\n",
    "labels = torch.Tensor(p_true[user_ids, item_ids] > .5)  # deterministic\n",
    "# labels = torch.Tensor(p_true[user_ids, item_ids] < np.random.rand(n_imp))  # probabilitic\n",
    "print(labels.numpy().mean())\n",
    "# labels"
   ]
  },
  {
   "cell_type": "code",
   "execution_count": 8,
   "id": "84286200-0013-4bb6-948b-6a1c3ae5d727",
   "metadata": {},
   "outputs": [],
   "source": [
    "# (users['age'] / users['age'].max()).values.reshape(-1, 1) * np.random.randn(true_emb_dim)"
   ]
  },
  {
   "cell_type": "code",
   "execution_count": 9,
   "id": "ae036742-6373-43f8-a934-a32f10ba4e14",
   "metadata": {},
   "outputs": [],
   "source": [
    "# torch hyperparameters\n",
    "lr = 0.01\n",
    "n_epochs = 100\n",
    "n_print = 10"
   ]
  },
  {
   "cell_type": "code",
   "execution_count": 10,
   "id": "d26aa81c-9254-4dea-b687-099f0d61037f",
   "metadata": {},
   "outputs": [
    {
     "name": "stdout",
     "output_type": "stream",
     "text": [
      "16\n",
      "Epoch    1, Loss: 1.2985, Test loss: 1.4619\n",
      "Epoch   11, Loss: 0.7027, Test loss: 0.7074\n",
      "Epoch   21, Loss: 0.6439, Test loss: 0.6615\n",
      "Epoch   31, Loss: 0.6158, Test loss: 0.6267\n",
      "Epoch   41, Loss: 0.5834, Test loss: 0.6119\n",
      "Epoch   51, Loss: 0.5619, Test loss: 0.5950\n",
      "Epoch   61, Loss: 0.5526, Test loss: 0.5935\n"
     ]
    }
   ],
   "source": [
    "torch.manual_seed(1234)\n",
    "print(true_emb_dim)\n",
    "model = TwoTowerModel(users, items, embedding_dim=2, hidden_dims=[6])\n",
    "\n",
    "# Training\n",
    "criterion = nn.BCEWithLogitsLoss()\n",
    "optimizer = optim.Adam(model.parameters(), lr=lr)\n",
    "\n",
    "# Train / test split\n",
    "frac_test = .1\n",
    "test_idx = torch.rand(n_imp) < frac_test\n",
    "train_idx = ~test_idx\n",
    "\n",
    "# Training loop\n",
    "stats = []\n",
    "stop_epoch_delay = 1 * n_epochs // n_print\n",
    "for epoch in range(n_epochs):\n",
    "    model.train()\n",
    "    optimizer.zero_grad()\n",
    "\n",
    "    uids, iids = user_ids[train_idx], item_ids[train_idx]\n",
    "    outputs = model.forward(uids, iids)\n",
    "    loss = criterion(outputs, labels[train_idx])\n",
    "\n",
    "    test_outputs = model.forward(user_ids[test_idx], item_ids[test_idx])\n",
    "    test_loss = criterion(test_outputs, labels[test_idx])\n",
    "    \n",
    "    loss.backward()\n",
    "    optimizer.step()\n",
    "    \n",
    "    stats.append({'epoch': epoch, 'loss': loss.item(), 'test loss': test_loss.item()})\n",
    "    if epoch % (n_epochs // n_print) == 0:\n",
    "        print(f\"Epoch {epoch+1:4}, Loss: {loss.item():.4f}, Test loss: {test_loss.item():.4f}\")\n",
    "\n",
    "    if len(stats) > stop_epoch_delay and stats[-stop_epoch_delay]['test loss'] > stats[-stop_epoch_delay - 1]['test loss']:\n",
    "        stats[-stop_epoch_delay - 1]['stop'] = True\n",
    "        break\n",
    "stats = pd.DataFrame(stats).set_index('epoch')"
   ]
  },
  {
   "cell_type": "code",
   "execution_count": 11,
   "id": "6d919962-3fa4-4c6c-978a-275d20e07cde",
   "metadata": {},
   "outputs": [
    {
     "data": {
      "image/png": "[encoded data removed]",
      "text/plain": [
       "<Figure size 1600x200 with 1 Axes>"
      ]
     },
     "metadata": {},
     "output_type": "display_data"
    }
   ],
   "source": [
    "ax = stats.plot(figsize=(16, 2))\n",
    "x = stats['stop'].dropna().index[0]\n",
    "ax.vlines(x, stats['loss'][x] - .1, stats['test loss'][x] + .1)\n",
    "_ = ax.set_xlim(0, len(stats)), ax.set_ylim(0, 1.05 * stats.max().max())\n"
   ]
  },
  {
   "cell_type": "code",
   "execution_count": 12,
   "id": "4380db58-71e7-43ec-a1c3-5d6fa5338e50",
   "metadata": {},
   "outputs": [
    {
     "data": {
      "image/png": "[encoded data removed]",
      "text/plain": [
       "<Figure size 1600x200 with 1 Axes>"
      ]
     },
     "metadata": {},
     "output_type": "display_data"
    }
   ],
   "source": [
    "df = stats.diff()\n",
    "ax = df.plot(figsize=(16, 2))\n",
    "ax.axhline(0, lw=.5, color='k')\n",
    "ax.vlines(x, df['loss'][x] - .01, df['test loss'][x] + .01)\n",
    "_ = ax.set_xlim(0, len(stats)), ax.set_ylim(df.min().min() - .05, df.max().max() + .05)"
   ]
  },
  {
   "cell_type": "code",
   "execution_count": 13,
   "id": "8085be5f-6151-42cc-8797-4cbb9da071da",
   "metadata": {},
   "outputs": [
    {
     "name": "stdout",
     "output_type": "stream",
     "text": [
      "prev  0.6255\n",
      "train auc 0.7795  acc 0.3708  p 0.6987  r 0.6292\n",
      "test  auc 0.7397  acc 0.4108  p 0.7000  r 0.5892\n"
     ]
    }
   ],
   "source": [
    "y_pred = sigmoid(outputs.detach().numpy()).round(2)\n",
    "y = labels[train_idx].detach().numpy()\n",
    "\n",
    "print('prev ', labels.numpy().mean())\n",
    "print('train auc %.4f  acc %.4f  p %.4f  r %.4f' % \n",
    "      (roc_auc_score(y, y_pred), (y_pred.astype(int) == y).mean(), y_pred[y.astype(bool)].mean(), y[y_pred.astype(bool)].mean()))\n",
    "\n",
    "y_pred = sigmoid(test_outputs.detach().numpy()).round(2)\n",
    "y = labels[test_idx].detach().numpy()\n",
    "print('test  auc %.4f  acc %.4f  p %.4f  r %.4f' % \n",
    "      (roc_auc_score(y, y_pred), (y_pred.astype(int) == y).mean(), y_pred[y.astype(bool)].mean(), y[y_pred.astype(bool)].mean()))"
   ]
  },
  {
   "cell_type": "code",
   "execution_count": null,
   "id": "d7b5e34b-5eba-42da-9486-fed73876d007",
   "metadata": {},
   "outputs": [],
   "source": []
  },
  {
   "cell_type": "code",
   "execution_count": null,
   "id": "011a7f9a-6245-4287-a780-2bb8ff14f9cd",
   "metadata": {},
   "outputs": [],
   "source": []
  }
 ],
 "metadata": {
  "kernelspec": {
   "display_name": "Python 3 (ipykernel)",
   "language": "python",
   "name": "python3"
  },
  "language_info": {
   "codemirror_mode": {
    "name": "ipython",
    "version": 3
   },
   "file_extension": ".py",
   "mimetype": "text/x-python",
   "name": "python",
   "nbconvert_exporter": "python",
   "pygments_lexer": "ipython3",
   "version": "3.11.7"
  }
 },
 "nbformat": 4,
 "nbformat_minor": 5
}
