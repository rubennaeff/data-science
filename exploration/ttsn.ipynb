{
 "cells": [
  {
   "cell_type": "markdown",
   "id": "4566c6b3-ec88-42e8-ba46-662c676ce7a6",
   "metadata": {},
   "source": [
    "### Recommender example"
   ]
  },
  {
   "cell_type": "code",
   "execution_count": 1,
   "id": "c7bd0504-5336-4584-854d-c5e7da953e4f",
   "metadata": {},
   "outputs": [],
   "source": [
    "import numpy as np\n",
    "import pandas as pd\n",
    "from sklearn.metrics import roc_auc_score, average_precision_score, f1_score\n",
    "from scipy import stats as st\n",
    "from matplotlib import pyplot as plt\n",
    "import seaborn as sns\n",
    "sns.set()"
   ]
  },
  {
   "cell_type": "code",
   "execution_count": 2,
   "id": "daf94f82-910c-403a-9f43-2e9c700f09b0",
   "metadata": {},
   "outputs": [],
   "source": [
    "import torch\n",
    "import torch.nn as nn\n",
    "import torch.optim as optim"
   ]
  },
  {
   "cell_type": "code",
   "execution_count": 3,
   "id": "0f813770-27cc-4ee0-a162-7fad867d64d0",
   "metadata": {},
   "outputs": [],
   "source": [
    "sigmoid = lambda x: 1. / (1. + np.exp(-x))"
   ]
  },
  {
   "cell_type": "code",
   "execution_count": 4,
   "id": "f4372d6d-a12c-48c3-8486-70f6c6c5485d",
   "metadata": {},
   "outputs": [],
   "source": [
    "is_numeric = lambda x: isinstance(x, (int, float, complex))\n",
    "# [(x, is_numeric(x)) for x in [0, 1, 2.345, 'hello', None, {12: 34}, [12, 23]]]"
   ]
  },
  {
   "cell_type": "code",
   "execution_count": null,
   "id": "e190353e-f520-428b-b8f8-35b04de23deb",
   "metadata": {},
   "outputs": [],
   "source": []
  },
  {
   "cell_type": "markdown",
   "id": "22144b21-c864-4bba-8412-12f2f7c65b9e",
   "metadata": {},
   "source": [
    "### ttsn model"
   ]
  },
  {
   "cell_type": "code",
   "execution_count": 5,
   "id": "bd8b43a4-f08e-436a-94e6-3887422e8a68",
   "metadata": {},
   "outputs": [],
   "source": [
    "class MLP(nn.Module):\n",
    "    def __init__(self, input_dim, hidden_dims, output_dim):\n",
    "        super().__init__()\n",
    "        layers = []\n",
    "        for h in hidden_dims:\n",
    "            layers.append(nn.Linear(input_dim, h))\n",
    "            layers.append(nn.ReLU())\n",
    "            input_dim = h\n",
    "        layers.append(nn.Linear(input_dim, output_dim))\n",
    "        self.model = nn.Sequential(*layers)\n",
    "\n",
    "    def forward(self, x):\n",
    "        return self.model(x)"
   ]
  },
  {
   "cell_type": "code",
   "execution_count": 43,
   "id": "87186d83-a710-4a6d-9e9f-5ffc5b798490",
   "metadata": {},
   "outputs": [],
   "source": [
    "# Ruben's version\n",
    "class TwoTowerModel(nn.Module):\n",
    "    def __init__(self, users, items, embedding_dim=2, hidden_dims=[], dtype=torch.float32, device='cpu'):\n",
    "        \"\"\"users and items dataframes with columns as features.\"\"\"\n",
    "\n",
    "        super().__init__()       \n",
    "        assert users.notnull().all().all() and items.notnull().all().all()\n",
    "        self.n_users, self.n_items, self.emb_dim = len(users), len(items), embedding_dim\n",
    "        self.dtype, self.device = dtype, device\n",
    "\n",
    "        # users, items\n",
    "        self.id_embeddings = nn.ModuleList([nn.Embedding(self.n_users, self.emb_dim), nn.Embedding(self.n_items, self.emb_dim)])\n",
    "        self.cat_embeddings = [nn.ModuleList(), nn.ModuleList()]  \n",
    "        self.cat_metadata = [[], []]  # metadata\n",
    "        self.cat_features = [[], []]  # users, items\n",
    "        self.num_features = [[], []]  # users, items\n",
    "        \n",
    "        for i, df in enumerate([users, items]):\n",
    "            for col in df:\n",
    "                is_num = is_numeric(df[col].iloc[0])\n",
    "                if is_num:\n",
    "                    if df[col].var() > 0:\n",
    "                        self.num_features[i].append(torch.tensor(df[[col]].values, dtype=dtype, device=self.device))\n",
    "                else:\n",
    "                    if df[col].nunique() > 1:\n",
    "                        cat_ids, cat_names = df[col].factorize()\n",
    "                        emb = nn.Embedding(len(cat_names), self.emb_dim)\n",
    "                        self.cat_embeddings[i].append(emb)  # store emb as Module\n",
    "                        self.cat_metadata[i].append({'i': i, 'emb': len(self.cat_embeddings[i]) - 1, 'feature': col, 'categories': cat_names})\n",
    "                        self.cat_features[i].append(torch.tensor(cat_ids, dtype=torch.long, device=self.device))  # already torch\n",
    "\n",
    "        self.towers = [\n",
    "            MLP((1 + len(self.cat_embeddings[i])) * self.emb_dim + len(self.num_features[i]), hidden_dims, self.emb_dim)\n",
    "            for i in [0, 1]]\n",
    "        self.to(self.device)  # move model to device\n",
    "\n",
    "\n",
    "    def forward(self, user_ids, item_ids):\n",
    "\n",
    "        assert len(user_ids) == len(item_ids)\n",
    "        # Create towers\n",
    "        vectors = []\n",
    "        for i, ids in enumerate([user_ids, item_ids]):\n",
    "            input = torch.cat(\n",
    "                [self.id_embeddings[i](ids)] +\n",
    "                [emb(features[ids]) for emb, features in zip(self.cat_embeddings[i], self.cat_features[i])] +\n",
    "                [vals[ids] for vals in self.num_features[i]], dim=1)\n",
    "            vectors.append(self.towers[i](input))\n",
    "\n",
    "        # Cosine similarities\n",
    "        # vectors = [torch.nn.functional.normalize(v) for v in vectors]  # L2 norm for cosine similarities\n",
    "        logits = (vectors[0] * vectors[1]).sum(dim=1)  \n",
    "        return logits"
   ]
  },
  {
   "cell_type": "code",
   "execution_count": null,
   "id": "fe97e2ed-79d1-485c-ba95-834a33cddfd2",
   "metadata": {},
   "outputs": [],
   "source": []
  },
  {
   "cell_type": "markdown",
   "id": "2962428b-3eb6-4cc1-8703-8f5fc8db3f3b",
   "metadata": {},
   "source": [
    "### demo"
   ]
  },
  {
   "cell_type": "code",
   "execution_count": 44,
   "id": "fb3ec85b-e2ea-40b0-bd95-e414fbff7be8",
   "metadata": {},
   "outputs": [
    {
     "name": "stdout",
     "output_type": "stream",
     "text": [
      "Using mps device\n"
     ]
    }
   ],
   "source": [
    "dtype = torch.float32\n",
    "# device = \"cpu\" \n",
    "device = (\n",
    "    \"cuda\" if torch.cuda.is_available()\n",
    "    else \"mps\" if torch.backends.mps.is_available()\n",
    "    else \"cpu\"\n",
    ")\n",
    "torch.set_default_device(device)\n",
    "print(f\"Using {device} device\")"
   ]
  },
  {
   "cell_type": "code",
   "execution_count": 123,
   "id": "7a6607fd-98f8-4185-af8c-0cedafabd675",
   "metadata": {},
   "outputs": [
    {
     "name": "stdout",
     "output_type": "stream",
     "text": [
      "See 80.0% of all possible interactions.\n",
      "(500, 30) 0.4994251064025677\n",
      "0.44333333\n"
     ]
    }
   ],
   "source": [
    "# Simulate user and item interactions\n",
    "n_users = 500  # 1000\n",
    "n_items =  30  # 500\n",
    "frac_imp = .8  # only have interactions for % of all (user, item) pairs\n",
    "n_imp = int(frac_imp * n_users * n_items)\n",
    "true_emb_dim = 4  # using this to simulate true interests\n",
    "threshold = .6  # 0.5  higher threshold gives fewer positives\n",
    "print(\"See %.1f%% of all possible interactions.\" % (100. * n_imp / (n_users * n_items)))\n",
    "\n",
    "# Simulate data (no features for now), using numpy\n",
    "np.random.seed(123)\n",
    "# user_true_emb = 2 * np.random.randn(n_users, true_emb_dim)\n",
    "# item_true_emb = 2 * np.random.randn(n_items, true_emb_dim)\n",
    "# users, items = pd.DataFrame({'dummy': np.zeros(n_users)}), pd.DataFrame({'dummy': np.zeros(n_items)})\n",
    "genders = ['male', 'non-binary', 'female']\n",
    "users = pd.DataFrame({\n",
    "    'age': np.maximum(18, 40 + 15 * np.random.randn(n_users)).astype(int),\n",
    "    'gender': np.random.choice(genders, n_users, p=[.49, .49, .02]),\n",
    "})\n",
    "topics = ['food', 'culture', 'civics', 'sports', 'science', 'business']  # just random categories\n",
    "items = pd.DataFrame({\n",
    "    'topic': np.random.choice(topics, n_items),  # uniform distribution\n",
    "})\n",
    "\n",
    "cat_features = [genders, topics]\n",
    "cat_emb = {category: np.random.randn(true_emb_dim) for feature in cat_features for category in feature}\n",
    "emb = np.random.randn(n_users, true_emb_dim) \\\n",
    "    + (users['age'] / users['age'].max()).values.reshape(-1, 1) \\\n",
    "    + np.array(users['gender'].map(cat_emb).tolist())\n",
    "emb = (emb - emb.mean(axis=1).reshape(-1, 1)) / emb.std(axis=1).reshape(-1, 1) \n",
    "user_true_emb = emb \n",
    "emb = np.random.randn(n_items, true_emb_dim) + np.array(items['topic'].map(cat_emb).tolist())\n",
    "emb = (emb - emb.mean(axis=1).reshape(-1, 1)) / emb.std(axis=1).reshape(-1, 1)\n",
    "item_true_emb = emb\n",
    "\n",
    "p_true = sigmoid(user_true_emb.dot(item_true_emb.T))  # true proability of user i liking item j\n",
    "print(p_true.shape, p_true.mean())\n",
    "\n",
    "# Generate data to feed into model, using tensors\n",
    "# g = torch.Generator(device=device).manual_seed(123) # for reproducibility\n",
    "# user_ids = torch.randint(0, n_users, (n_imp,), generator=g)  # this includes (user, item) duplicate pairs, so does not work as well\n",
    "# item_ids = torch.randint(0, n_items, (n_imp,), generator=g)\n",
    "user_ids = torch.cat([torch.full((n_items,), i, device=device) for i in range(n_users)])[:n_imp]\n",
    "item_ids = torch.cat([torch.arange(n_items, device=device)] * n_users)[:n_imp]\n",
    "labels = (torch.tensor(p_true, dtype=dtype, device=device)[user_ids, item_ids] > threshold).type(dtype)  # deterministic\n",
    "# labels = (torch.tensor(p_true, dtype=dtype, device=device)[user_ids, item_ids] > torch.rand(n_imp, dtype=dtype, device=device)).float()  # probabilitic\n",
    "print(labels.cpu().numpy().mean())\n",
    "# labels"
   ]
  },
  {
   "cell_type": "code",
   "execution_count": 124,
   "id": "b68571f0-f4d5-4e3f-80bd-3a0ff289a285",
   "metadata": {},
   "outputs": [
    {
     "data": {
      "image/png": "[encoded data removed]",
      "text/plain": [
       "<Figure size 600x300 with 1 Axes>"
      ]
     },
     "metadata": {},
     "output_type": "display_data"
    }
   ],
   "source": [
    "_ = pd.Series(p_true.reshape(-1)).hist(bins=np.linspace(0, 1, 21), figsize=(6, 3))"
   ]
  },
  {
   "cell_type": "code",
   "execution_count": 125,
   "id": "ae036742-6373-43f8-a934-a32f10ba4e14",
   "metadata": {},
   "outputs": [],
   "source": [
    "# torch hyperparameters\n",
    "lr = 0.01\n",
    "max_test_loss_increases = 50  # number of epochs\n",
    "n_epoch_print = 50 # print after every so many epochs"
   ]
  },
  {
   "cell_type": "code",
   "execution_count": 126,
   "id": "d26aa81c-9254-4dea-b687-099f0d61037f",
   "metadata": {},
   "outputs": [
    {
     "name": "stdout",
     "output_type": "stream",
     "text": [
      "Epoch    0, train loss: 0.7026, test loss: 0.7061 (0.0000)\n",
      "Epoch   50, train loss: 0.6888, test loss: 0.6938 (-0.0002)\n",
      "Epoch  100, train loss: 0.6733, test loss: 0.6815 (-0.0003)\n",
      "Epoch  150, train loss: 0.6480, test loss: 0.6596 (-0.0005)\n",
      "Epoch  200, train loss: 0.6195, test loss: 0.6334 (-0.0005)\n",
      "Epoch  250, train loss: 0.5948, test loss: 0.6099 (-0.0004)\n",
      "Epoch  300, train loss: 0.5742, test loss: 0.5899 (-0.0004)\n",
      "Epoch  350, train loss: 0.5561, test loss: 0.5715 (-0.0004)\n",
      "Epoch  400, train loss: 0.5400, test loss: 0.5540 (-0.0003)\n",
      "Epoch  450, train loss: 0.5253, test loss: 0.5373 (-0.0003)\n",
      "Epoch  500, train loss: 0.5129, test loss: 0.5243 (-0.0002)\n",
      "Epoch  550, train loss: 0.5029, test loss: 0.5150 (-0.0001)\n",
      "Epoch  600, train loss: 0.4951, test loss: 0.5077 (-0.0002)\n",
      "Epoch  650, train loss: 0.4886, test loss: 0.5018 (-0.0001)\n",
      "Epoch  700, train loss: 0.4837, test loss: 0.4973 (-0.0001)\n",
      "Epoch  750, train loss: 0.4791, test loss: 0.4932 (-0.0001)\n",
      "Epoch  800, train loss: 0.4752, test loss: 0.4897 (-0.0001)\n",
      "Epoch  850, train loss: 0.4719, test loss: 0.4868 (-0.0001)\n",
      "Epoch  900, train loss: 0.4688, test loss: 0.4838 (-0.0000)\n",
      "Epoch  950, train loss: 0.4658, test loss: 0.4808 (-0.0001)\n",
      "Epoch 1000, train loss: 0.4628, test loss: 0.4780 (-0.0001)\n",
      "Epoch 1050, train loss: 0.4602, test loss: 0.4757 (-0.0000)\n",
      "Epoch 1100, train loss: 0.4578, test loss: 0.4735 (-0.0000)\n",
      "Epoch 1150, train loss: 0.4555, test loss: 0.4716 (-0.0000)\n",
      "Epoch 1200, train loss: 0.4532, test loss: 0.4695 (-0.0000)\n",
      "Epoch 1250, train loss: 0.4510, test loss: 0.4676 (-0.0000)\n",
      "Epoch 1300, train loss: 0.4489, test loss: 0.4658 (-0.0000)\n",
      "Epoch 1350, train loss: 0.4470, test loss: 0.4642 (-0.0000)\n",
      "Epoch 1400, train loss: 0.4451, test loss: 0.4626 (-0.0000)\n",
      "Epoch 1450, train loss: 0.4433, test loss: 0.4612 (-0.0000)\n",
      "Epoch 1500, train loss: 0.4416, test loss: 0.4599 (-0.0000)\n",
      "Epoch 1550, train loss: 0.4399, test loss: 0.4592 (-0.0000)\n",
      "Epoch 1600, train loss: 0.4384, test loss: 0.4582 (-0.0000)\n",
      "Epoch 1650, train loss: 0.4370, test loss: 0.4573 (-0.0000)\n",
      "Epoch 1700, train loss: 0.4357, test loss: 0.4564 (-0.0000)\n",
      "Epoch 1750, train loss: 0.4344, test loss: 0.4555 (-0.0000)\n",
      "Epoch 1800, train loss: 0.4332, test loss: 0.4548 (-0.0000)\n",
      "Epoch 1850, train loss: 0.4321, test loss: 0.4541 (-0.0000)\n",
      "Epoch 1900, train loss: 0.4307, test loss: 0.4535 (-0.0000)\n",
      "Epoch 1950, train loss: 0.4286, test loss: 0.4516 (-0.0000)\n",
      "Epoch 2000, train loss: 0.4271, test loss: 0.4504 (-0.0000)\n",
      "Epoch 2050, train loss: 0.4257, test loss: 0.4503 (0.0000)\n",
      "Epoch 2100, train loss: 0.4245, test loss: 0.4498 (-0.0000)\n",
      "Epoch 2150, train loss: 0.4234, test loss: 0.4490 (-0.0000)\n",
      "Epoch 2200, train loss: 0.4223, test loss: 0.4483 (-0.0000)\n",
      "Epoch 2250, train loss: 0.4214, test loss: 0.4477 (-0.0000)\n",
      "Epoch 2300, train loss: 0.4204, test loss: 0.4472 (-0.0000)\n",
      "Epoch 2350, train loss: 0.4196, test loss: 0.4467 (-0.0000)\n",
      "Epoch 2400, train loss: 0.4187, test loss: 0.4461 (-0.0000)\n",
      "Epoch 2450, train loss: 0.4179, test loss: 0.4458 (-0.0000)\n",
      "Epoch 2500, train loss: 0.4171, test loss: 0.4454 (-0.0000)\n",
      "Epoch 2550, train loss: 0.4164, test loss: 0.4451 (-0.0000)\n",
      "Epoch 2600, train loss: 0.4149, test loss: 0.4439 (-0.0000)\n",
      "Epoch 2650, train loss: 0.4138, test loss: 0.4434 (-0.0000)\n",
      "Epoch 2700, train loss: 0.4129, test loss: 0.4431 (-0.0000)\n",
      "Epoch 2750, train loss: 0.4121, test loss: 0.4429 (-0.0000)\n",
      "Epoch 2800, train loss: 0.4114, test loss: 0.4428 (-0.0000)\n",
      "Epoch 2850, train loss: 0.4107, test loss: 0.4426 (-0.0000)\n",
      "Epoch 2900, train loss: 0.4100, test loss: 0.4425 (-0.0000)\n",
      "Epoch 2950, train loss: 0.4094, test loss: 0.4425 (0.0000)\n",
      "Epoch 3000, train loss: 0.4088, test loss: 0.4424 (-0.0000)\n",
      "Epoch 3050, train loss: 0.4083, test loss: 0.4424 (0.0000)\n",
      "Epoch 3100, train loss: 0.4077, test loss: 0.4424 (-0.0000)\n",
      "Epoch 3150, train loss: 0.4072, test loss: 0.4424 (-0.0000)\n",
      "Epoch 3200, train loss: 0.4066, test loss: 0.4424 (0.0000)\n",
      "Epoch 3250, train loss: 0.4061, test loss: 0.4425 (-0.0000)\n",
      "Epoch 3300, train loss: 0.4056, test loss: 0.4425 (0.0000)\n",
      "Epoch 3350, train loss: 0.4051, test loss: 0.4426 (0.0000)\n",
      "Epoch 3400, train loss: 0.4047, test loss: 0.4427 (0.0000)\n",
      "Epoch 3450, train loss: 0.4042, test loss: 0.4428 (0.0000)\n",
      "Epoch 3500, train loss: 0.4037, test loss: 0.4429 (0.0000)\n",
      "Epoch 3550, train loss: 0.4033, test loss: 0.4430 (-0.0000)\n",
      "Epoch 3600, train loss: 0.4029, test loss: 0.4431 (0.0000)\n",
      "Epoch 3650, train loss: 0.4024, test loss: 0.4432 (0.0000)\n",
      "Epoch 3700, train loss: 0.4020, test loss: 0.4433 (0.0000)\n",
      "Epoch 3750, train loss: 0.4016, test loss: 0.4435 (0.0000)\n",
      "Epoch 3800, train loss: 0.4012, test loss: 0.4436 (0.0000)\n",
      "Epoch 3850, train loss: 0.4008, test loss: 0.4437 (0.0000)\n",
      "Epoch 3900, train loss: 0.4004, test loss: 0.4439 (0.0000)\n",
      "Epoch 3950, train loss: 0.4000, test loss: 0.4440 (0.0000)\n",
      "Epoch 4000, train loss: 0.3996, test loss: 0.4441 (0.0000)\n",
      "Epoch 4050, train loss: 0.3993, test loss: 0.4443 (0.0000)\n",
      "Epoch 4100, train loss: 0.3989, test loss: 0.4445 (0.0000)\n",
      "Epoch 4150, train loss: 0.3985, test loss: 0.4447 (0.0000)\n",
      "Epoch 4200, train loss: 0.3982, test loss: 0.4448 (-0.0000)\n",
      "Epoch 4250, train loss: 0.3978, test loss: 0.4449 (0.0000)\n",
      "Epoch 4300, train loss: 0.3975, test loss: 0.4450 (0.0000)\n",
      "Epoch 4350, train loss: 0.3971, test loss: 0.4451 (-0.0000)\n",
      "Epoch 4400, train loss: 0.3968, test loss: 0.4453 (0.0000)\n",
      "Epoch 4450, train loss: 0.3965, test loss: 0.4454 (0.0000)\n",
      "Epoch 4500, train loss: 0.3961, test loss: 0.4455 (-0.0000)\n",
      "Epoch 4550, train loss: 0.3958, test loss: 0.4456 (0.0000)\n",
      "Epoch 4600, train loss: 0.3955, test loss: 0.4457 (0.0000)\n",
      "Epoch 4650, train loss: 0.3952, test loss: 0.4458 (-0.0000)\n",
      "Epoch 4700, train loss: 0.3949, test loss: 0.4459 (0.0000)\n",
      "Epoch 4750, train loss: 0.3946, test loss: 0.4461 (0.0000)\n"
     ]
    },
    {
     "ename": "KeyboardInterrupt",
     "evalue": "",
     "output_type": "error",
     "traceback": [
      "\u001b[0;31m---------------------------------------------------------------------------\u001b[0m",
      "\u001b[0;31mKeyboardInterrupt\u001b[0m                         Traceback (most recent call last)",
      "Cell \u001b[0;32mIn[126], line 30\u001b[0m\n\u001b[1;32m     27\u001b[0m test_loss \u001b[38;5;241m=\u001b[39m criterion(test_logits, labels[test_idx])\n\u001b[1;32m     29\u001b[0m loss\u001b[38;5;241m.\u001b[39mbackward()\n\u001b[0;32m---> 30\u001b[0m optimizer\u001b[38;5;241m.\u001b[39mstep()\n\u001b[1;32m     32\u001b[0m stats\u001b[38;5;241m.\u001b[39mappend({\u001b[38;5;124m'\u001b[39m\u001b[38;5;124mepoch\u001b[39m\u001b[38;5;124m'\u001b[39m: epoch, \u001b[38;5;124m'\u001b[39m\u001b[38;5;124mtrain\u001b[39m\u001b[38;5;124m'\u001b[39m: loss\u001b[38;5;241m.\u001b[39mitem(), \u001b[38;5;124m'\u001b[39m\u001b[38;5;124mtest\u001b[39m\u001b[38;5;124m'\u001b[39m: test_loss\u001b[38;5;241m.\u001b[39mitem()})\n\u001b[1;32m     33\u001b[0m delta \u001b[38;5;241m=\u001b[39m stats[\u001b[38;5;241m-\u001b[39m\u001b[38;5;241m1\u001b[39m][\u001b[38;5;124m'\u001b[39m\u001b[38;5;124mtest\u001b[39m\u001b[38;5;124m'\u001b[39m] \u001b[38;5;241m-\u001b[39m stats[\u001b[38;5;241m-\u001b[39m\u001b[38;5;241m2\u001b[39m][\u001b[38;5;124m'\u001b[39m\u001b[38;5;124mtest\u001b[39m\u001b[38;5;124m'\u001b[39m] \u001b[38;5;28;01mif\u001b[39;00m \u001b[38;5;28mlen\u001b[39m(stats) \u001b[38;5;241m>\u001b[39m \u001b[38;5;241m1\u001b[39m \u001b[38;5;28;01melse\u001b[39;00m \u001b[38;5;241m0\u001b[39m\n",
      "File \u001b[0;32m/opt/anaconda3/lib/python3.11/site-packages/torch/optim/optimizer.py:385\u001b[0m, in \u001b[0;36mOptimizer.profile_hook_step.<locals>.wrapper\u001b[0;34m(*args, **kwargs)\u001b[0m\n\u001b[1;32m    380\u001b[0m         \u001b[38;5;28;01melse\u001b[39;00m:\n\u001b[1;32m    381\u001b[0m             \u001b[38;5;28;01mraise\u001b[39;00m \u001b[38;5;167;01mRuntimeError\u001b[39;00m(\n\u001b[1;32m    382\u001b[0m                 \u001b[38;5;124mf\u001b[39m\u001b[38;5;124m\"\u001b[39m\u001b[38;5;132;01m{\u001b[39;00mfunc\u001b[38;5;132;01m}\u001b[39;00m\u001b[38;5;124m must return None or a tuple of (new_args, new_kwargs), but got \u001b[39m\u001b[38;5;132;01m{\u001b[39;00mresult\u001b[38;5;132;01m}\u001b[39;00m\u001b[38;5;124m.\u001b[39m\u001b[38;5;124m\"\u001b[39m\n\u001b[1;32m    383\u001b[0m             )\n\u001b[0;32m--> 385\u001b[0m out \u001b[38;5;241m=\u001b[39m func(\u001b[38;5;241m*\u001b[39margs, \u001b[38;5;241m*\u001b[39m\u001b[38;5;241m*\u001b[39mkwargs)\n\u001b[1;32m    386\u001b[0m \u001b[38;5;28mself\u001b[39m\u001b[38;5;241m.\u001b[39m_optimizer_step_code()\n\u001b[1;32m    388\u001b[0m \u001b[38;5;66;03m# call optimizer step post hooks\u001b[39;00m\n",
      "File \u001b[0;32m/opt/anaconda3/lib/python3.11/site-packages/torch/optim/optimizer.py:76\u001b[0m, in \u001b[0;36m_use_grad_for_differentiable.<locals>._use_grad\u001b[0;34m(self, *args, **kwargs)\u001b[0m\n\u001b[1;32m     74\u001b[0m     torch\u001b[38;5;241m.\u001b[39mset_grad_enabled(\u001b[38;5;28mself\u001b[39m\u001b[38;5;241m.\u001b[39mdefaults[\u001b[38;5;124m'\u001b[39m\u001b[38;5;124mdifferentiable\u001b[39m\u001b[38;5;124m'\u001b[39m])\n\u001b[1;32m     75\u001b[0m     torch\u001b[38;5;241m.\u001b[39m_dynamo\u001b[38;5;241m.\u001b[39mgraph_break()\n\u001b[0;32m---> 76\u001b[0m     ret \u001b[38;5;241m=\u001b[39m func(\u001b[38;5;28mself\u001b[39m, \u001b[38;5;241m*\u001b[39margs, \u001b[38;5;241m*\u001b[39m\u001b[38;5;241m*\u001b[39mkwargs)\n\u001b[1;32m     77\u001b[0m \u001b[38;5;28;01mfinally\u001b[39;00m:\n\u001b[1;32m     78\u001b[0m     torch\u001b[38;5;241m.\u001b[39m_dynamo\u001b[38;5;241m.\u001b[39mgraph_break()\n",
      "File \u001b[0;32m/opt/anaconda3/lib/python3.11/site-packages/torch/optim/adam.py:166\u001b[0m, in \u001b[0;36mAdam.step\u001b[0;34m(self, closure)\u001b[0m\n\u001b[1;32m    155\u001b[0m     beta1, beta2 \u001b[38;5;241m=\u001b[39m group[\u001b[38;5;124m'\u001b[39m\u001b[38;5;124mbetas\u001b[39m\u001b[38;5;124m'\u001b[39m]\n\u001b[1;32m    157\u001b[0m     has_complex \u001b[38;5;241m=\u001b[39m \u001b[38;5;28mself\u001b[39m\u001b[38;5;241m.\u001b[39m_init_group(\n\u001b[1;32m    158\u001b[0m         group,\n\u001b[1;32m    159\u001b[0m         params_with_grad,\n\u001b[0;32m   (...)\u001b[0m\n\u001b[1;32m    163\u001b[0m         max_exp_avg_sqs,\n\u001b[1;32m    164\u001b[0m         state_steps)\n\u001b[0;32m--> 166\u001b[0m     adam(\n\u001b[1;32m    167\u001b[0m         params_with_grad,\n\u001b[1;32m    168\u001b[0m         grads,\n\u001b[1;32m    169\u001b[0m         exp_avgs,\n\u001b[1;32m    170\u001b[0m         exp_avg_sqs,\n\u001b[1;32m    171\u001b[0m         max_exp_avg_sqs,\n\u001b[1;32m    172\u001b[0m         state_steps,\n\u001b[1;32m    173\u001b[0m         amsgrad\u001b[38;5;241m=\u001b[39mgroup[\u001b[38;5;124m'\u001b[39m\u001b[38;5;124mamsgrad\u001b[39m\u001b[38;5;124m'\u001b[39m],\n\u001b[1;32m    174\u001b[0m         has_complex\u001b[38;5;241m=\u001b[39mhas_complex,\n\u001b[1;32m    175\u001b[0m         beta1\u001b[38;5;241m=\u001b[39mbeta1,\n\u001b[1;32m    176\u001b[0m         beta2\u001b[38;5;241m=\u001b[39mbeta2,\n\u001b[1;32m    177\u001b[0m         lr\u001b[38;5;241m=\u001b[39mgroup[\u001b[38;5;124m'\u001b[39m\u001b[38;5;124mlr\u001b[39m\u001b[38;5;124m'\u001b[39m],\n\u001b[1;32m    178\u001b[0m         weight_decay\u001b[38;5;241m=\u001b[39mgroup[\u001b[38;5;124m'\u001b[39m\u001b[38;5;124mweight_decay\u001b[39m\u001b[38;5;124m'\u001b[39m],\n\u001b[1;32m    179\u001b[0m         eps\u001b[38;5;241m=\u001b[39mgroup[\u001b[38;5;124m'\u001b[39m\u001b[38;5;124meps\u001b[39m\u001b[38;5;124m'\u001b[39m],\n\u001b[1;32m    180\u001b[0m         maximize\u001b[38;5;241m=\u001b[39mgroup[\u001b[38;5;124m'\u001b[39m\u001b[38;5;124mmaximize\u001b[39m\u001b[38;5;124m'\u001b[39m],\n\u001b[1;32m    181\u001b[0m         foreach\u001b[38;5;241m=\u001b[39mgroup[\u001b[38;5;124m'\u001b[39m\u001b[38;5;124mforeach\u001b[39m\u001b[38;5;124m'\u001b[39m],\n\u001b[1;32m    182\u001b[0m         capturable\u001b[38;5;241m=\u001b[39mgroup[\u001b[38;5;124m'\u001b[39m\u001b[38;5;124mcapturable\u001b[39m\u001b[38;5;124m'\u001b[39m],\n\u001b[1;32m    183\u001b[0m         differentiable\u001b[38;5;241m=\u001b[39mgroup[\u001b[38;5;124m'\u001b[39m\u001b[38;5;124mdifferentiable\u001b[39m\u001b[38;5;124m'\u001b[39m],\n\u001b[1;32m    184\u001b[0m         fused\u001b[38;5;241m=\u001b[39mgroup[\u001b[38;5;124m'\u001b[39m\u001b[38;5;124mfused\u001b[39m\u001b[38;5;124m'\u001b[39m],\n\u001b[1;32m    185\u001b[0m         grad_scale\u001b[38;5;241m=\u001b[39m\u001b[38;5;28mgetattr\u001b[39m(\u001b[38;5;28mself\u001b[39m, \u001b[38;5;124m\"\u001b[39m\u001b[38;5;124mgrad_scale\u001b[39m\u001b[38;5;124m\"\u001b[39m, \u001b[38;5;28;01mNone\u001b[39;00m),\n\u001b[1;32m    186\u001b[0m         found_inf\u001b[38;5;241m=\u001b[39m\u001b[38;5;28mgetattr\u001b[39m(\u001b[38;5;28mself\u001b[39m, \u001b[38;5;124m\"\u001b[39m\u001b[38;5;124mfound_inf\u001b[39m\u001b[38;5;124m\"\u001b[39m, \u001b[38;5;28;01mNone\u001b[39;00m),\n\u001b[1;32m    187\u001b[0m     )\n\u001b[1;32m    189\u001b[0m \u001b[38;5;28;01mreturn\u001b[39;00m loss\n",
      "File \u001b[0;32m/opt/anaconda3/lib/python3.11/site-packages/torch/optim/adam.py:316\u001b[0m, in \u001b[0;36madam\u001b[0;34m(params, grads, exp_avgs, exp_avg_sqs, max_exp_avg_sqs, state_steps, foreach, capturable, differentiable, fused, grad_scale, found_inf, has_complex, amsgrad, beta1, beta2, lr, weight_decay, eps, maximize)\u001b[0m\n\u001b[1;32m    313\u001b[0m \u001b[38;5;28;01melse\u001b[39;00m:\n\u001b[1;32m    314\u001b[0m     func \u001b[38;5;241m=\u001b[39m _single_tensor_adam\n\u001b[0;32m--> 316\u001b[0m func(params,\n\u001b[1;32m    317\u001b[0m      grads,\n\u001b[1;32m    318\u001b[0m      exp_avgs,\n\u001b[1;32m    319\u001b[0m      exp_avg_sqs,\n\u001b[1;32m    320\u001b[0m      max_exp_avg_sqs,\n\u001b[1;32m    321\u001b[0m      state_steps,\n\u001b[1;32m    322\u001b[0m      amsgrad\u001b[38;5;241m=\u001b[39mamsgrad,\n\u001b[1;32m    323\u001b[0m      has_complex\u001b[38;5;241m=\u001b[39mhas_complex,\n\u001b[1;32m    324\u001b[0m      beta1\u001b[38;5;241m=\u001b[39mbeta1,\n\u001b[1;32m    325\u001b[0m      beta2\u001b[38;5;241m=\u001b[39mbeta2,\n\u001b[1;32m    326\u001b[0m      lr\u001b[38;5;241m=\u001b[39mlr,\n\u001b[1;32m    327\u001b[0m      weight_decay\u001b[38;5;241m=\u001b[39mweight_decay,\n\u001b[1;32m    328\u001b[0m      eps\u001b[38;5;241m=\u001b[39meps,\n\u001b[1;32m    329\u001b[0m      maximize\u001b[38;5;241m=\u001b[39mmaximize,\n\u001b[1;32m    330\u001b[0m      capturable\u001b[38;5;241m=\u001b[39mcapturable,\n\u001b[1;32m    331\u001b[0m      differentiable\u001b[38;5;241m=\u001b[39mdifferentiable,\n\u001b[1;32m    332\u001b[0m      grad_scale\u001b[38;5;241m=\u001b[39mgrad_scale,\n\u001b[1;32m    333\u001b[0m      found_inf\u001b[38;5;241m=\u001b[39mfound_inf)\n",
      "File \u001b[0;32m/opt/anaconda3/lib/python3.11/site-packages/torch/optim/adam.py:423\u001b[0m, in \u001b[0;36m_single_tensor_adam\u001b[0;34m(params, grads, exp_avgs, exp_avg_sqs, max_exp_avg_sqs, state_steps, grad_scale, found_inf, amsgrad, has_complex, beta1, beta2, lr, weight_decay, eps, maximize, capturable, differentiable)\u001b[0m\n\u001b[1;32m    421\u001b[0m     param\u001b[38;5;241m.\u001b[39maddcdiv_(exp_avg, denom)\n\u001b[1;32m    422\u001b[0m \u001b[38;5;28;01melse\u001b[39;00m:\n\u001b[0;32m--> 423\u001b[0m     step \u001b[38;5;241m=\u001b[39m _get_value(step_t)\n\u001b[1;32m    425\u001b[0m     bias_correction1 \u001b[38;5;241m=\u001b[39m \u001b[38;5;241m1\u001b[39m \u001b[38;5;241m-\u001b[39m beta1 \u001b[38;5;241m*\u001b[39m\u001b[38;5;241m*\u001b[39m step\n\u001b[1;32m    426\u001b[0m     bias_correction2 \u001b[38;5;241m=\u001b[39m \u001b[38;5;241m1\u001b[39m \u001b[38;5;241m-\u001b[39m beta2 \u001b[38;5;241m*\u001b[39m\u001b[38;5;241m*\u001b[39m step\n",
      "File \u001b[0;32m/opt/anaconda3/lib/python3.11/site-packages/torch/optim/optimizer.py:89\u001b[0m, in \u001b[0;36m_get_value\u001b[0;34m(x)\u001b[0m\n\u001b[1;32m     87\u001b[0m     \u001b[38;5;28;01mreturn\u001b[39;00m x\n\u001b[1;32m     88\u001b[0m \u001b[38;5;28;01melse\u001b[39;00m:\n\u001b[0;32m---> 89\u001b[0m     \u001b[38;5;28;01mreturn\u001b[39;00m x\u001b[38;5;241m.\u001b[39mitem()\n",
      "File \u001b[0;32m/opt/anaconda3/lib/python3.11/site-packages/torch/utils/_device.py:77\u001b[0m, in \u001b[0;36mDeviceContext.__torch_function__\u001b[0;34m(self, func, types, args, kwargs)\u001b[0m\n\u001b[1;32m     75\u001b[0m \u001b[38;5;28;01mif\u001b[39;00m func \u001b[38;5;129;01min\u001b[39;00m _device_constructors() \u001b[38;5;129;01mand\u001b[39;00m kwargs\u001b[38;5;241m.\u001b[39mget(\u001b[38;5;124m'\u001b[39m\u001b[38;5;124mdevice\u001b[39m\u001b[38;5;124m'\u001b[39m) \u001b[38;5;129;01mis\u001b[39;00m \u001b[38;5;28;01mNone\u001b[39;00m:\n\u001b[1;32m     76\u001b[0m     kwargs[\u001b[38;5;124m'\u001b[39m\u001b[38;5;124mdevice\u001b[39m\u001b[38;5;124m'\u001b[39m] \u001b[38;5;241m=\u001b[39m \u001b[38;5;28mself\u001b[39m\u001b[38;5;241m.\u001b[39mdevice\n\u001b[0;32m---> 77\u001b[0m \u001b[38;5;28;01mreturn\u001b[39;00m func(\u001b[38;5;241m*\u001b[39margs, \u001b[38;5;241m*\u001b[39m\u001b[38;5;241m*\u001b[39mkwargs)\n",
      "\u001b[0;31mKeyboardInterrupt\u001b[0m: "
     ]
    }
   ],
   "source": [
    "torch.manual_seed(134)\n",
    "model = TwoTowerModel(users, items, embedding_dim=2, hidden_dims=[3], device=device)\n",
    "\n",
    "# Training\n",
    "criterion = nn.BCEWithLogitsLoss()\n",
    "optimizer = optim.Adam(model.parameters(), lr=lr)\n",
    "\n",
    "# Train / test split\n",
    "frac_test = .15\n",
    "test_idx = torch.rand(n_imp).to(device) < frac_test\n",
    "train_idx = ~test_idx\n",
    "\n",
    "# Training loop\n",
    "stats = []\n",
    "epoch = 0\n",
    "test_loss_increases = 0\n",
    "stop = False\n",
    "while not stop:\n",
    "    model.train()\n",
    "    optimizer.zero_grad()\n",
    "\n",
    "    uids, iids = user_ids[train_idx], item_ids[train_idx]\n",
    "    logits = model.forward(uids, iids)\n",
    "    loss = criterion(logits, labels[train_idx])\n",
    "\n",
    "    test_logits = model.forward(user_ids[test_idx], item_ids[test_idx])\n",
    "    test_loss = criterion(test_logits, labels[test_idx])\n",
    "    \n",
    "    loss.backward()\n",
    "    optimizer.step()\n",
    "    \n",
    "    stats.append({'epoch': epoch, 'train': loss.item(), 'test': test_loss.item()})\n",
    "    delta = stats[-1]['test'] - stats[-2]['test'] if len(stats) > 1 else 0\n",
    "    \n",
    "    if epoch % n_epoch_print == 0:\n",
    "        print(f\"Epoch {epoch:4}, train loss: {loss.item():.4f}, test loss: {test_loss.item():.4f} ({delta:5.4f})\")\n",
    "    epoch += 1\n",
    "    \n",
    "    if delta > 0:  # test loss gets bigger..\n",
    "        test_loss_increases += 1\n",
    "        if test_loss_increases > max_test_loss_increases:\n",
    "            stop = True\n",
    "    else:\n",
    "        test_loss_increases = 0  # reset again\n",
    "        \n",
    "stats = pd.DataFrame(stats).set_index('epoch')"
   ]
  },
  {
   "cell_type": "code",
   "execution_count": 128,
   "id": "9e46ba02-93c5-4c66-b342-6bd73d402ce5",
   "metadata": {},
   "outputs": [],
   "source": [
    "stats = pd.DataFrame(stats).set_index('epoch')"
   ]
  },
  {
   "cell_type": "code",
   "execution_count": 129,
   "id": "6d919962-3fa4-4c6c-978a-275d20e07cde",
   "metadata": {},
   "outputs": [
    {
     "data": {
      "image/png": "[encoded data removed]",
      "text/plain": [
       "<Figure size 1600x200 with 1 Axes>"
      ]
     },
     "metadata": {},
     "output_type": "display_data"
    }
   ],
   "source": [
    "ax = stats.plot(figsize=(16, 2))\n",
    "_ = ax.set_xlim(0, len(stats)), ax.set_ylim(0, 1.05 * stats.max().max())"
   ]
  },
  {
   "cell_type": "code",
   "execution_count": 130,
   "id": "4380db58-71e7-43ec-a1c3-5d6fa5338e50",
   "metadata": {},
   "outputs": [
    {
     "data": {
      "image/png": "[encoded data removed]",
      "text/plain": [
       "<Figure size 1600x200 with 1 Axes>"
      ]
     },
     "metadata": {},
     "output_type": "display_data"
    }
   ],
   "source": [
    "df = stats.diff()\n",
    "ax = df.plot(figsize=(16, 2))\n",
    "ax.axhline(0, lw=.5, color='k')\n",
    "_ = ax.set_xlim(0, len(stats)), ax.set_ylim(df.min().min() - .05, df.max().max() + .05)"
   ]
  },
  {
   "cell_type": "code",
   "execution_count": 133,
   "id": "8085be5f-6151-42cc-8797-4cbb9da071da",
   "metadata": {},
   "outputs": [
    {
     "name": "stdout",
     "output_type": "stream",
     "text": [
      "prev  0.44333333\n",
      "train auc 0.8885  acc 0.7741  ap 0.8645  f1 0.7178  p 0.8076  r 0.6460\n",
      "test  auc 0.8732  acc 0.7677  ap 0.8383  f1 0.7024  p 0.7955  r 0.6288\n"
     ]
    }
   ],
   "source": [
    "y_pred = sigmoid(logits.cpu().detach().numpy()).round(2)\n",
    "y_pred_bool = y_pred.round().astype(bool)\n",
    "y = labels[train_idx].cpu().detach().numpy().astype(bool)\n",
    "\n",
    "print('prev ', labels.cpu().detach().numpy().mean())\n",
    "print('train auc %.4f  acc %.4f  ap %.4f  f1 %.4f  p %.4f  r %.4f' % \n",
    "      (roc_auc_score(y, y_pred), (y_pred_bool == y).mean(), average_precision_score(y, y_pred), \n",
    "       f1_score(y, y_pred_bool), y[y_pred_bool].mean(), y_pred_bool[y].mean()))\n",
    "\n",
    "y_pred = sigmoid(test_logits.cpu().detach().numpy()).round(2)\n",
    "y_pred_bool = y_pred.round().astype(bool)\n",
    "y = labels[test_idx].cpu().detach().numpy().astype(bool)\n",
    "print('test  auc %.4f  acc %.4f  ap %.4f  f1 %.4f  p %.4f  r %.4f' % \n",
    "      (roc_auc_score(y, y_pred), (y_pred_bool == y).mean(), average_precision_score(y, y_pred), \n",
    "       f1_score(y, y_pred_bool), y[y_pred_bool].mean(), y_pred_bool[y].mean()))"
   ]
  },
  {
   "cell_type": "code",
   "execution_count": null,
   "id": "11669933-a45c-443e-a4b2-2b57a428c650",
   "metadata": {},
   "outputs": [],
   "source": []
  },
  {
   "cell_type": "code",
   "execution_count": null,
   "id": "7791e8e3-ae78-4b48-a9fa-96c5e9da2dbb",
   "metadata": {},
   "outputs": [],
   "source": []
  },
  {
   "cell_type": "code",
   "execution_count": null,
   "id": "ad299e4b-99da-4c7b-a534-0c7283548214",
   "metadata": {},
   "outputs": [],
   "source": []
  }
 ],
 "metadata": {
  "kernelspec": {
   "display_name": "Python 3 (ipykernel)",
   "language": "python",
   "name": "python3"
  },
  "language_info": {
   "codemirror_mode": {
    "name": "ipython",
    "version": 3
   },
   "file_extension": ".py",
   "mimetype": "text/x-python",
   "name": "python",
   "nbconvert_exporter": "python",
   "pygments_lexer": "ipython3",
   "version": "3.11.7"
  }
 },
 "nbformat": 4,
 "nbformat_minor": 5
}
