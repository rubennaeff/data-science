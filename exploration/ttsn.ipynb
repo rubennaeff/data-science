{
 "cells": [
  {
   "cell_type": "markdown",
   "id": "4566c6b3-ec88-42e8-ba46-662c676ce7a6",
   "metadata": {},
   "source": [
    "### Recommender example"
   ]
  },
  {
   "cell_type": "code",
   "execution_count": 76,
   "id": "c7bd0504-5336-4584-854d-c5e7da953e4f",
   "metadata": {},
   "outputs": [],
   "source": [
    "import numpy as np\n",
    "import pandas as pd\n",
    "from sklearn.metrics import roc_auc_score, average_precision_score, f1_score, roc_curve, precision_recall_curve\n",
    "from scipy import stats as st\n",
    "from matplotlib import pyplot as plt\n",
    "import seaborn as sns\n",
    "sns.set()"
   ]
  },
  {
   "cell_type": "code",
   "execution_count": 2,
   "id": "daf94f82-910c-403a-9f43-2e9c700f09b0",
   "metadata": {},
   "outputs": [],
   "source": [
    "import torch\n",
    "import torch.nn as nn\n",
    "import torch.optim as optim"
   ]
  },
  {
   "cell_type": "code",
   "execution_count": 3,
   "id": "0f813770-27cc-4ee0-a162-7fad867d64d0",
   "metadata": {},
   "outputs": [],
   "source": [
    "sigmoid = lambda x: 1. / (1. + np.exp(-x))"
   ]
  },
  {
   "cell_type": "code",
   "execution_count": 4,
   "id": "f4372d6d-a12c-48c3-8486-70f6c6c5485d",
   "metadata": {},
   "outputs": [],
   "source": [
    "is_numeric = lambda x: isinstance(x, (int, float, complex))\n",
    "# [(x, is_numeric(x)) for x in [0, 1, 2.345, 'hello', None, {12: 34}, [12, 23]]]"
   ]
  },
  {
   "cell_type": "code",
   "execution_count": null,
   "id": "e190353e-f520-428b-b8f8-35b04de23deb",
   "metadata": {},
   "outputs": [],
   "source": []
  },
  {
   "cell_type": "markdown",
   "id": "22144b21-c864-4bba-8412-12f2f7c65b9e",
   "metadata": {},
   "source": [
    "### ttsn model"
   ]
  },
  {
   "cell_type": "code",
   "execution_count": 5,
   "id": "bd8b43a4-f08e-436a-94e6-3887422e8a68",
   "metadata": {},
   "outputs": [],
   "source": [
    "class MLP(nn.Module):\n",
    "    def __init__(self, input_dim, hidden_dims, output_dim):\n",
    "        super().__init__()\n",
    "        layers = []\n",
    "        for h in hidden_dims:\n",
    "            layers.append(nn.Linear(input_dim, h))\n",
    "            layers.append(nn.ReLU())\n",
    "            input_dim = h\n",
    "        layers.append(nn.Linear(input_dim, output_dim))\n",
    "        self.model = nn.Sequential(*layers)\n",
    "\n",
    "    def forward(self, x):\n",
    "        return self.model(x)"
   ]
  },
  {
   "cell_type": "code",
   "execution_count": 6,
   "id": "87186d83-a710-4a6d-9e9f-5ffc5b798490",
   "metadata": {},
   "outputs": [],
   "source": [
    "# Ruben's version\n",
    "class TwoTowerModel(nn.Module):\n",
    "    def __init__(self, users, items, embedding_dim=2, hidden_dims=[], dtype=torch.float32, device='cpu'):\n",
    "        \"\"\"users and items dataframes with columns as features.\"\"\"\n",
    "\n",
    "        super().__init__()       \n",
    "        assert users.notnull().all().all() and items.notnull().all().all()\n",
    "        self.n_users, self.n_items, self.emb_dim = len(users), len(items), embedding_dim\n",
    "        self.dtype, self.device = dtype, device\n",
    "\n",
    "        # users, items\n",
    "        self.id_embeddings = nn.ModuleList([nn.Embedding(self.n_users, self.emb_dim), nn.Embedding(self.n_items, self.emb_dim)])\n",
    "        self.cat_embeddings = [nn.ModuleList(), nn.ModuleList()]  \n",
    "        self.cat_metadata = [[], []]  # metadata\n",
    "        self.cat_features = [[], []]  # users, items\n",
    "        self.num_features = [[], []]  # users, items\n",
    "        \n",
    "        for i, df in enumerate([users, items]):\n",
    "            for col in df:\n",
    "                is_num = is_numeric(df[col].iloc[0])\n",
    "                if is_num:\n",
    "                    if df[col].var() > 0:\n",
    "                        self.num_features[i].append(torch.tensor(df[[col]].values, dtype=dtype, device=self.device))\n",
    "                else:\n",
    "                    if df[col].nunique() > 1:\n",
    "                        cat_ids, cat_names = df[col].factorize()\n",
    "                        emb = nn.Embedding(len(cat_names), self.emb_dim)\n",
    "                        self.cat_embeddings[i].append(emb)  # store emb as Module\n",
    "                        self.cat_metadata[i].append({'i': i, 'emb': len(self.cat_embeddings[i]) - 1, 'feature': col, 'categories': cat_names})\n",
    "                        self.cat_features[i].append(torch.tensor(cat_ids, dtype=torch.long, device=self.device))  # already torch\n",
    "\n",
    "        self.towers = [\n",
    "            MLP((1 + len(self.cat_embeddings[i])) * self.emb_dim + len(self.num_features[i]), hidden_dims, self.emb_dim)\n",
    "            for i in [0, 1]]\n",
    "        self.to(self.device)  # move model to device\n",
    "\n",
    "\n",
    "    def forward(self, user_ids, item_ids):\n",
    "\n",
    "        assert len(user_ids) == len(item_ids)\n",
    "        # Create towers\n",
    "        vectors = []\n",
    "        for i, ids in enumerate([user_ids, item_ids]):\n",
    "            input = torch.cat(\n",
    "                [self.id_embeddings[i](ids)] +\n",
    "                [emb(features[ids]) for emb, features in zip(self.cat_embeddings[i], self.cat_features[i])] +\n",
    "                [vals[ids] for vals in self.num_features[i]], dim=1)\n",
    "            vectors.append(self.towers[i](input))\n",
    "\n",
    "        # Cosine similarities\n",
    "        # vectors = [torch.nn.functional.normalize(v) for v in vectors]  # L2 norm for cosine similarities\n",
    "        logits = (vectors[0] * vectors[1]).sum(dim=1)  \n",
    "        return logits"
   ]
  },
  {
   "cell_type": "code",
   "execution_count": null,
   "id": "fe97e2ed-79d1-485c-ba95-834a33cddfd2",
   "metadata": {},
   "outputs": [],
   "source": []
  },
  {
   "cell_type": "markdown",
   "id": "2962428b-3eb6-4cc1-8703-8f5fc8db3f3b",
   "metadata": {},
   "source": [
    "### demo"
   ]
  },
  {
   "cell_type": "code",
   "execution_count": 7,
   "id": "fb3ec85b-e2ea-40b0-bd95-e414fbff7be8",
   "metadata": {},
   "outputs": [
    {
     "name": "stdout",
     "output_type": "stream",
     "text": [
      "Using mps device\n"
     ]
    }
   ],
   "source": [
    "dtype = torch.float32\n",
    "# device = \"cpu\" \n",
    "device = (\n",
    "    \"cuda\" if torch.cuda.is_available()\n",
    "    else \"mps\" if torch.backends.mps.is_available()\n",
    "    else \"cpu\"\n",
    ")\n",
    "torch.set_default_device(device)\n",
    "print(f\"Using {device} device\")"
   ]
  },
  {
   "cell_type": "code",
   "execution_count": 156,
   "id": "7a6607fd-98f8-4185-af8c-0cedafabd675",
   "metadata": {},
   "outputs": [
    {
     "name": "stdout",
     "output_type": "stream",
     "text": [
      "See 80.0% of all possible interactions.\n",
      "(500, 30) 0.4609146885495617\n",
      "0.40758333\n"
     ]
    }
   ],
   "source": [
    "# Simulate user and item interactions\n",
    "n_users = 500  # 1000\n",
    "n_items =  30  # 500\n",
    "frac_imp = .8  # only have interactions for % of all (user, item) pairs\n",
    "n_imp = int(frac_imp * n_users * n_items)\n",
    "true_emb_dim = 4  # using this to simulate true interests\n",
    "threshold = .6  # 0.5  higher threshold gives fewer positives\n",
    "print(\"See %.1f%% of all possible interactions.\" % (100. * n_imp / (n_users * n_items)))\n",
    "\n",
    "# 1. Simulate data (no features for now), using numpy\n",
    "np.random.seed(123)\n",
    "# user_true_emb = 2 * np.random.randn(n_users, true_emb_dim)\n",
    "# item_true_emb = 2 * np.random.randn(n_items, true_emb_dim)\n",
    "# users, items = pd.DataFrame({'dummy': np.zeros(n_users)}), pd.DataFrame({'dummy': np.zeros(n_items)})\n",
    "# p_true = sigmoid(user_true_emb.dot(item_true_emb.T))  # true proability of user i liking item j\n",
    "# print(p_true.shape, p_true.mean())\n",
    "\n",
    "# 2. With features\n",
    "genders = ['male', 'non-binary', 'female']\n",
    "users = pd.DataFrame({\n",
    "    'age': np.maximum(18, 40 + 15 * np.random.randn(n_users)).astype(int),\n",
    "    'gender': np.random.choice(genders, n_users, p=[.49, .49, .02]),\n",
    "})\n",
    "topics = ['food', 'culture', 'civics', 'sports', 'science', 'business']  # just random categories\n",
    "items = pd.DataFrame({\n",
    "    'topic': np.random.choice(topics, n_items),  # uniform distribution\n",
    "})\n",
    "\n",
    "cat_features = [genders, topics]\n",
    "cat_emb = {category: np.random.randn(true_emb_dim) for feature in cat_features for category in feature}\n",
    "emb = np.random.randn(n_users, true_emb_dim) \\\n",
    "    + (users['age'] / users['age'].max()).values.reshape(-1, 1) \\\n",
    "    + np.array(users['gender'].map(cat_emb).tolist())\n",
    "emb = (emb - emb.mean(axis=1).reshape(-1, 1)) / emb.std(axis=1).reshape(-1, 1) \n",
    "user_true_emb = emb \n",
    "emb = np.random.randn(n_items, true_emb_dim) + np.array(items['topic'].map(cat_emb).tolist())\n",
    "emb = (emb - emb.mean(axis=1).reshape(-1, 1)) / emb.std(axis=1).reshape(-1, 1)\n",
    "item_true_emb = emb\n",
    "p_true = sigmoid(user_true_emb.dot(item_true_emb.T))  # true proability of user i liking item j\n",
    "print(p_true.shape, p_true.mean())\n",
    "\n",
    "# # 3. User interest modeling\n",
    "# n_iterests = 2\n",
    "# item_true_emb = np.random.randn(n_items, true_emb_dim)\n",
    "# user_true_interests = item_true_emb[np.random.choice(n_items, (n_users, n_iterests))]  # can have duplicate interests\n",
    "# p_true = sigmoid(user_true_interests.dot(item_true_emb.T).max(axis=1))  # take max to reflect best interest\n",
    "# p_true = p_true ** 3  # push down distribution a bit\n",
    "# print(p_true.shape, p_true.mean())\n",
    "# users, items = pd.DataFrame({'dummy': np.zeros(n_users)}), pd.DataFrame({'dummy': np.zeros(n_items)})  # no features\n",
    "\n",
    "# Generate data to feed into model, using tensors\n",
    "# g = torch.Generator(device=device).manual_seed(123) # for reproducibility\n",
    "# user_ids = torch.randint(0, n_users, (n_imp,), generator=g)  # this includes (user, item) duplicate pairs, so does not work as well\n",
    "# item_ids = torch.randint(0, n_items, (n_imp,), generator=g)\n",
    "ipms = torch.randperm(n_users)[:n_imp]\n",
    "user_ids = torch.cat([torch.full((n_items,), i, device=device) for i in range(n_users)])[imps]\n",
    "item_ids = torch.cat([torch.arange(n_items, device=device)] * n_users)[imps]\n",
    "labels = (torch.tensor(p_true, dtype=dtype, device=device)[user_ids, item_ids] > threshold).type(dtype)  # deterministic\n",
    "# labels = (torch.tensor(p_true, dtype=dtype, device=device)[user_ids, item_ids] > torch.rand(n_imp, dtype=dtype, device=device)).float()  # probabilitic\n",
    "print(labels.cpu().numpy().mean())\n",
    "# labels"
   ]
  },
  {
   "cell_type": "code",
   "execution_count": 157,
   "id": "b68571f0-f4d5-4e3f-80bd-3a0ff289a285",
   "metadata": {},
   "outputs": [
    {
     "data": {
      "image/png": "[encoded data removed]",
      "text/plain": [
       "<Figure size 600x300 with 1 Axes>"
      ]
     },
     "metadata": {},
     "output_type": "display_data"
    }
   ],
   "source": [
    "_ = pd.Series(p_true.reshape(-1)).hist(bins=np.linspace(0, 1, 21), figsize=(6, 3))"
   ]
  },
  {
   "cell_type": "code",
   "execution_count": 158,
   "id": "ae036742-6373-43f8-a934-a32f10ba4e14",
   "metadata": {},
   "outputs": [],
   "source": [
    "# torch hyperparameters\n",
    "lr = 0.01\n",
    "max_test_loss_increases = 50  # number of epochs\n",
    "n_epoch_print = 50 # print after every so many epochs"
   ]
  },
  {
   "cell_type": "code",
   "execution_count": 159,
   "id": "d26aa81c-9254-4dea-b687-099f0d61037f",
   "metadata": {},
   "outputs": [
    {
     "name": "stdout",
     "output_type": "stream",
     "text": [
      "Epoch    0, train loss: 0.7322, test loss: 0.7229 (0.0000)\n",
      "Epoch   50, train loss: 0.7021, test loss: 0.7002 (-0.0003)\n",
      "Epoch  100, train loss: 0.6843, test loss: 0.6885 (-0.0002)\n",
      "Epoch  150, train loss: 0.6662, test loss: 0.6751 (-0.0003)\n",
      "Epoch  200, train loss: 0.6426, test loss: 0.6534 (-0.0005)\n",
      "Epoch  250, train loss: 0.6140, test loss: 0.6246 (-0.0006)\n",
      "Epoch  300, train loss: 0.5864, test loss: 0.5962 (-0.0005)\n",
      "Epoch  350, train loss: 0.5618, test loss: 0.5712 (-0.0005)\n",
      "Epoch  400, train loss: 0.5425, test loss: 0.5509 (-0.0004)\n",
      "Epoch  450, train loss: 0.5275, test loss: 0.5356 (-0.0003)\n",
      "Epoch  500, train loss: 0.5167, test loss: 0.5245 (-0.0002)\n",
      "Epoch  550, train loss: 0.5079, test loss: 0.5151 (-0.0002)\n",
      "Epoch  600, train loss: 0.5003, test loss: 0.5076 (-0.0001)\n",
      "Epoch  650, train loss: 0.4940, test loss: 0.5009 (-0.0001)\n",
      "Epoch  700, train loss: 0.4880, test loss: 0.4945 (-0.0001)\n",
      "Epoch  750, train loss: 0.4825, test loss: 0.4888 (-0.0001)\n",
      "Epoch  800, train loss: 0.4780, test loss: 0.4843 (-0.0001)\n",
      "Epoch  850, train loss: 0.4734, test loss: 0.4803 (-0.0001)\n",
      "Epoch  900, train loss: 0.4685, test loss: 0.4764 (-0.0001)\n",
      "Epoch  950, train loss: 0.4647, test loss: 0.4731 (-0.0001)\n",
      "Epoch 1000, train loss: 0.4613, test loss: 0.4700 (-0.0001)\n",
      "Epoch 1050, train loss: 0.4575, test loss: 0.4669 (-0.0000)\n",
      "Epoch 1100, train loss: 0.4547, test loss: 0.4647 (-0.0000)\n",
      "Epoch 1150, train loss: 0.4518, test loss: 0.4623 (-0.0001)\n",
      "Epoch 1200, train loss: 0.4491, test loss: 0.4599 (-0.0000)\n",
      "Epoch 1250, train loss: 0.4465, test loss: 0.4576 (-0.0001)\n",
      "Epoch 1300, train loss: 0.4437, test loss: 0.4555 (-0.0000)\n",
      "Epoch 1350, train loss: 0.4415, test loss: 0.4536 (-0.0000)\n",
      "Epoch 1400, train loss: 0.4394, test loss: 0.4523 (-0.0000)\n",
      "Epoch 1450, train loss: 0.4373, test loss: 0.4512 (-0.0000)\n",
      "Epoch 1500, train loss: 0.4353, test loss: 0.4502 (-0.0000)\n",
      "Epoch 1550, train loss: 0.4338, test loss: 0.4495 (-0.0000)\n",
      "Epoch 1600, train loss: 0.4322, test loss: 0.4486 (-0.0000)\n",
      "Epoch 1650, train loss: 0.4303, test loss: 0.4478 (-0.0000)\n",
      "Epoch 1700, train loss: 0.4288, test loss: 0.4473 (-0.0000)\n",
      "Epoch 1750, train loss: 0.4273, test loss: 0.4467 (-0.0000)\n",
      "Epoch 1800, train loss: 0.4261, test loss: 0.4465 (-0.0000)\n",
      "Epoch 1850, train loss: 0.4247, test loss: 0.4463 (-0.0000)\n",
      "Epoch 1900, train loss: 0.4233, test loss: 0.4461 (-0.0000)\n",
      "Epoch 1950, train loss: 0.4219, test loss: 0.4454 (-0.0000)\n",
      "Epoch 2000, train loss: 0.4207, test loss: 0.4452 (-0.0000)\n",
      "Epoch 2050, train loss: 0.4194, test loss: 0.4449 (-0.0000)\n",
      "Epoch 2100, train loss: 0.4180, test loss: 0.4446 (-0.0000)\n",
      "Epoch 2150, train loss: 0.4169, test loss: 0.4445 (-0.0000)\n",
      "Epoch 2200, train loss: 0.4157, test loss: 0.4443 (-0.0000)\n",
      "Epoch 2250, train loss: 0.4147, test loss: 0.4442 (0.0000)\n",
      "Epoch 2300, train loss: 0.4135, test loss: 0.4440 (-0.0000)\n",
      "Epoch 2350, train loss: 0.4125, test loss: 0.4439 (0.0000)\n",
      "Epoch 2400, train loss: 0.4115, test loss: 0.4439 (0.0000)\n",
      "Epoch 2450, train loss: 0.4106, test loss: 0.4440 (0.0000)\n",
      "Epoch 2500, train loss: 0.4097, test loss: 0.4441 (0.0000)\n",
      "Epoch 2550, train loss: 0.4089, test loss: 0.4442 (0.0000)\n",
      "Epoch 2600, train loss: 0.4079, test loss: 0.4442 (-0.0000)\n",
      "Epoch 2650, train loss: 0.4070, test loss: 0.4440 (0.0000)\n",
      "Epoch 2700, train loss: 0.4061, test loss: 0.4441 (-0.0000)\n",
      "Epoch 2750, train loss: 0.4052, test loss: 0.4440 (0.0000)\n",
      "Epoch 2800, train loss: 0.4044, test loss: 0.4441 (0.0000)\n"
     ]
    }
   ],
   "source": [
    "torch.manual_seed(134)\n",
    "model = TwoTowerModel(users, items, embedding_dim=2, hidden_dims=[3], device=device)\n",
    "\n",
    "# Training\n",
    "criterion = nn.BCEWithLogitsLoss()\n",
    "optimizer = optim.Adam(model.parameters(), lr=lr)\n",
    "\n",
    "# Train / test split\n",
    "frac_test = .15\n",
    "test_idx = torch.rand(n_imp).to(device) < frac_test\n",
    "train_idx = ~test_idx\n",
    "\n",
    "# Training loop\n",
    "stats = []\n",
    "epoch = 0\n",
    "test_loss_increases = 0\n",
    "stop = False\n",
    "while not stop:\n",
    "    model.train()\n",
    "    optimizer.zero_grad()\n",
    "\n",
    "    uids, iids = user_ids[train_idx], item_ids[train_idx]\n",
    "    logits = model.forward(uids, iids)\n",
    "    loss = criterion(logits, labels[train_idx])\n",
    "\n",
    "    test_logits = model.forward(user_ids[test_idx], item_ids[test_idx])\n",
    "    test_loss = criterion(test_logits, labels[test_idx])\n",
    "    \n",
    "    loss.backward()\n",
    "    optimizer.step()\n",
    "    \n",
    "    stats.append({'epoch': epoch, 'train': loss.item(), 'test': test_loss.item()})\n",
    "    delta = stats[-1]['test'] - stats[-2]['test'] if len(stats) > 1 else 0\n",
    "    \n",
    "    if epoch % n_epoch_print == 0:\n",
    "        print(f\"Epoch {epoch:4}, train loss: {loss.item():.4f}, test loss: {test_loss.item():.4f} ({delta:5.4f})\")\n",
    "    epoch += 1\n",
    "\n",
    "    if delta >= 0:  # test loss gets bigger..\n",
    "        test_loss_increases += 1\n",
    "        if test_loss_increases > max_test_loss_increases:\n",
    "            stop = True\n",
    "    else:\n",
    "        test_loss_increases = 0  # reset again\n",
    "        \n",
    "stats = pd.DataFrame(stats).set_index('epoch')"
   ]
  },
  {
   "cell_type": "code",
   "execution_count": 161,
   "id": "9e46ba02-93c5-4c66-b342-6bd73d402ce5",
   "metadata": {},
   "outputs": [],
   "source": [
    "# stats = pd.DataFrame(stats).set_index('epoch')\n",
    "# stats"
   ]
  },
  {
   "cell_type": "code",
   "execution_count": 162,
   "id": "6d919962-3fa4-4c6c-978a-275d20e07cde",
   "metadata": {},
   "outputs": [
    {
     "data": {
      "image/png": "[encoded data removed]",
      "text/plain": [
       "<Figure size 1600x200 with 1 Axes>"
      ]
     },
     "metadata": {},
     "output_type": "display_data"
    }
   ],
   "source": [
    "ax = stats.plot(figsize=(16, 2))\n",
    "# _ = ax.set_xlim(0, len(stats)), ax.set_ylim(0, 1.05 * stats.max().max())\n",
    "# _ = ax.set_xlim(0, len(stats)), ax.set_ylim(0, 1.05 * stats.max().max())"
   ]
  },
  {
   "cell_type": "code",
   "execution_count": 163,
   "id": "4380db58-71e7-43ec-a1c3-5d6fa5338e50",
   "metadata": {
    "scrolled": true
   },
   "outputs": [
    {
     "data": {
      "text/plain": [
       "<matplotlib.lines.Line2D at 0x162daafd0>"
      ]
     },
     "execution_count": 163,
     "metadata": {},
     "output_type": "execute_result"
    },
    {
     "data": {
      "image/png": "[encoded data removed]",
      "text/plain": [
       "<Figure size 1600x200 with 1 Axes>"
      ]
     },
     "metadata": {},
     "output_type": "display_data"
    }
   ],
   "source": [
    "df = stats.diff()\n",
    "ax = df.plot(figsize=(16, 2))\n",
    "ax.axhline(0, lw=.5, color='k')\n",
    "# _ = ax.set_xlim(0, len(stats)), ax.set_ylim(df.min().min() - .05, df.max().max() + .05)"
   ]
  },
  {
   "cell_type": "code",
   "execution_count": 164,
   "id": "8085be5f-6151-42cc-8797-4cbb9da071da",
   "metadata": {},
   "outputs": [
    {
     "name": "stdout",
     "output_type": "stream",
     "text": [
      "prev  0.40758333\n",
      "train auc 0.8743  acc 0.7762  ap 0.8193  f1 0.7299  p 0.7130  r 0.7478\n",
      "test  auc 0.8617  acc 0.7727  ap 0.8083  f1 0.7337  p 0.7304  r 0.7370\n"
     ]
    }
   ],
   "source": [
    "y_pred = sigmoid(logits.cpu().detach().numpy()).round(2)\n",
    "y_pred_bool = y_pred.round().astype(bool)\n",
    "y = labels[train_idx].cpu().detach().numpy().astype(bool)\n",
    "\n",
    "print('prev ', labels.cpu().detach().numpy().mean())\n",
    "print('train auc %.4f  acc %.4f  ap %.4f  f1 %.4f  p %.4f  r %.4f' % \n",
    "      (roc_auc_score(y, y_pred), (y_pred_bool == y).mean(), average_precision_score(y, y_pred), \n",
    "       f1_score(y, y_pred_bool), y[y_pred_bool].mean(), y_pred_bool[y].mean()))\n",
    "\n",
    "y_pred = sigmoid(test_logits.cpu().detach().numpy()).round(2)\n",
    "y_pred_bool = y_pred.round().astype(bool)\n",
    "y = labels[test_idx].cpu().detach().numpy().astype(bool)\n",
    "print('test  auc %.4f  acc %.4f  ap %.4f  f1 %.4f  p %.4f  r %.4f' % \n",
    "      (roc_auc_score(y, y_pred), (y_pred_bool == y).mean(), average_precision_score(y, y_pred), \n",
    "       f1_score(y, y_pred_bool), y[y_pred_bool].mean(), y_pred_bool[y].mean()))"
   ]
  },
  {
   "cell_type": "code",
   "execution_count": 165,
   "id": "11669933-a45c-443e-a4b2-2b57a428c650",
   "metadata": {},
   "outputs": [],
   "source": [
    "# fpr, tpr, thresholds = roc_curve(y, y_pred)\n",
    "# plt.plot(fpr, tpr)\n",
    "# p, r, thresholds = precision_recall_curve(y, y_pred)\n",
    "# plt.plot(r, p)"
   ]
  },
  {
   "cell_type": "code",
   "execution_count": null,
   "id": "7791e8e3-ae78-4b48-a9fa-96c5e9da2dbb",
   "metadata": {},
   "outputs": [],
   "source": []
  },
  {
   "cell_type": "code",
   "execution_count": null,
   "id": "db91e664-82ca-4ed6-88a8-939dedfa5f00",
   "metadata": {},
   "outputs": [],
   "source": []
  }
 ],
 "metadata": {
  "kernelspec": {
   "display_name": "Python 3 (ipykernel)",
   "language": "python",
   "name": "python3"
  },
  "language_info": {
   "codemirror_mode": {
    "name": "ipython",
    "version": 3
   },
   "file_extension": ".py",
   "mimetype": "text/x-python",
   "name": "python",
   "nbconvert_exporter": "python",
   "pygments_lexer": "ipython3",
   "version": "3.11.7"
  }
 },
 "nbformat": 4,
 "nbformat_minor": 5
}
