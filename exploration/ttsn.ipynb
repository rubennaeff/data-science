{
 "cells": [
  {
   "cell_type": "markdown",
   "id": "4566c6b3-ec88-42e8-ba46-662c676ce7a6",
   "metadata": {},
   "source": [
    "### Recommender example"
   ]
  },
  {
   "cell_type": "code",
   "execution_count": 1,
   "id": "c7bd0504-5336-4584-854d-c5e7da953e4f",
   "metadata": {},
   "outputs": [],
   "source": [
    "import numpy as np\n",
    "import pandas as pd\n",
    "from sklearn.metrics import roc_auc_score\n",
    "from scipy import stats as st\n",
    "from matplotlib import pyplot as plt\n",
    "import seaborn as sns\n",
    "sns.set()"
   ]
  },
  {
   "cell_type": "code",
   "execution_count": 2,
   "id": "daf94f82-910c-403a-9f43-2e9c700f09b0",
   "metadata": {},
   "outputs": [],
   "source": [
    "import torch\n",
    "import torch.nn as nn\n",
    "import torch.optim as optim"
   ]
  },
  {
   "cell_type": "code",
   "execution_count": 3,
   "id": "0f813770-27cc-4ee0-a162-7fad867d64d0",
   "metadata": {},
   "outputs": [],
   "source": [
    "sigmoid = lambda x: 1. / (1. + np.exp(-x))"
   ]
  },
  {
   "cell_type": "code",
   "execution_count": 4,
   "id": "f4372d6d-a12c-48c3-8486-70f6c6c5485d",
   "metadata": {},
   "outputs": [],
   "source": [
    "is_numeric = lambda x: isinstance(x, (int, float, complex))\n",
    "# [(x, is_numeric(x)) for x in [0, 1, 2.345, 'hello', None, {12: 34}, [12, 23]]]"
   ]
  },
  {
   "cell_type": "code",
   "execution_count": null,
   "id": "06c54acf-389d-4f2d-b99f-feea693509e8",
   "metadata": {},
   "outputs": [],
   "source": []
  },
  {
   "cell_type": "code",
   "execution_count": 5,
   "id": "bd8b43a4-f08e-436a-94e6-3887422e8a68",
   "metadata": {},
   "outputs": [],
   "source": [
    "class MLP(nn.Module):\n",
    "    def __init__(self, input_dim, hidden_dims, output_dim):\n",
    "        super().__init__()\n",
    "        layers = []\n",
    "        for h in hidden_dims:\n",
    "            layers.append(nn.Linear(input_dim, h))\n",
    "            layers.append(nn.ReLU())\n",
    "            input_dim = h\n",
    "        layers.append(nn.Linear(input_dim, output_dim))\n",
    "        self.model = nn.Sequential(*layers)\n",
    "\n",
    "    def forward(self, x):\n",
    "        return self.model(x)"
   ]
  },
  {
   "cell_type": "code",
   "execution_count": 6,
   "id": "87186d83-a710-4a6d-9e9f-5ffc5b798490",
   "metadata": {},
   "outputs": [],
   "source": [
    "# Ruben's version\n",
    "class TwoTowerModel(nn.Module):\n",
    "    def __init__(self, users, items, embedding_dim=2, hidden_dims=[], dtype=torch.float32, device='cpu'):\n",
    "        \"\"\"users and items dataframes with columns as features.\"\"\"\n",
    "\n",
    "        super().__init__()       \n",
    "        assert users.notnull().all().all() and items.notnull().all().all()\n",
    "        self.n_users, self.n_items, self.emb_dim = len(users), len(items), embedding_dim\n",
    "        self.dtype, self.device = dtype, device\n",
    "\n",
    "        # users, items\n",
    "        self.id_embeddings = nn.ModuleList([nn.Embedding(self.n_users, self.emb_dim), nn.Embedding(self.n_items, self.emb_dim)])\n",
    "        self.cat_embeddings = [nn.ModuleList(), nn.ModuleList()]  \n",
    "        self.cat_metadata = [[], []]  # metadata\n",
    "        self.cat_features = [[], []]  # users, items\n",
    "        self.num_features = [[], []]  # users, items\n",
    "        \n",
    "        for i, df in enumerate([users, items]):\n",
    "            for col in df:\n",
    "                is_num = is_numeric(df[col].iloc[0])\n",
    "                if is_num:\n",
    "                    if df[col].var() > 0:\n",
    "                        self.num_features[i].append(torch.tensor(df[[col]].values, dtype=dtype, device=self.device))\n",
    "                else:\n",
    "                    if df[col].nunique() > 1:\n",
    "                        cat_ids, cat_names = df[col].factorize()\n",
    "                        emb = nn.Embedding(len(cat_names), self.emb_dim)\n",
    "                        self.cat_embeddings[i].append(emb)  # store emb as Module\n",
    "                        self.cat_metadata[i].append({'i': i, 'emb': len(self.cat_embeddings[i]) - 1, 'feature': col, 'categories': cat_names})\n",
    "                        self.cat_features[i].append(torch.tensor(cat_ids, dtype=torch.long, device=self.device))  # already torch\n",
    "\n",
    "        self.towers = [\n",
    "            MLP((1 + len(self.cat_embeddings[i])) * self.emb_dim + len(self.num_features[i]), hidden_dims, self.emb_dim)\n",
    "            for i in [0, 1]]\n",
    "        self.to(self.device)  # move model to device\n",
    "\n",
    "\n",
    "    def forward(self, user_ids, item_ids):\n",
    "\n",
    "        assert len(user_ids) == len(item_ids)\n",
    "        # Create towers\n",
    "        vectors = []\n",
    "        for i, ids in enumerate([user_ids, item_ids]):\n",
    "            input = torch.cat(\n",
    "                [self.id_embeddings[i](ids)] +\n",
    "                [emb(features[ids]) for emb, features in zip(self.cat_embeddings[i], self.cat_features[i])] +\n",
    "                [vals[ids] for vals in self.num_features[i]], dim=1)\n",
    "            vectors.append(self.towers[i](input))\n",
    "\n",
    "        # Cosine similarities\n",
    "        vectors = [torch.nn.functional.normalize(v) for v in vectors]  # L2 norm for cosine similarities\n",
    "        logits = (vectors[0] * vectors[1]).sum(dim=1)  \n",
    "        return logits"
   ]
  },
  {
   "cell_type": "code",
   "execution_count": 7,
   "id": "e09a7f91-9bee-4eae-94cb-6c0275cd8aa3",
   "metadata": {},
   "outputs": [],
   "source": [
    "# self = model\n",
    "# i = 1\n",
    "# self.cat_features\n",
    "# self.num_features\n",
    "\n"
   ]
  },
  {
   "cell_type": "code",
   "execution_count": null,
   "id": "fe97e2ed-79d1-485c-ba95-834a33cddfd2",
   "metadata": {},
   "outputs": [],
   "source": []
  },
  {
   "cell_type": "code",
   "execution_count": 8,
   "id": "fb3ec85b-e2ea-40b0-bd95-e414fbff7be8",
   "metadata": {},
   "outputs": [
    {
     "name": "stdout",
     "output_type": "stream",
     "text": [
      "Using mps device\n"
     ]
    }
   ],
   "source": [
    "dtype = torch.float32\n",
    "# device = \"cpu\" \n",
    "device = (\n",
    "    \"cuda\" if torch.cuda.is_available()\n",
    "    else \"mps\" if torch.backends.mps.is_available()\n",
    "    else \"cpu\"\n",
    ")\n",
    "torch.set_default_device(device)\n",
    "print(f\"Using {device} device\")"
   ]
  },
  {
   "cell_type": "code",
   "execution_count": 9,
   "id": "7a6607fd-98f8-4185-af8c-0cedafabd675",
   "metadata": {},
   "outputs": [
    {
     "name": "stdout",
     "output_type": "stream",
     "text": [
      "See 100.0% of all possible interactions.\n",
      "(5, 10) 0.4995574538124471\n",
      "0.5\n"
     ]
    }
   ],
   "source": [
    "# Simulate user and item interactions\n",
    "n_users = 5  # 200  # 1000\n",
    "n_items =  10  # 500\n",
    "frac_imp = 1.  # only have interactions for % of all (user, item) pairs\n",
    "n_imp = int(frac_imp * n_users * n_items)\n",
    "true_emb_dim = 2  # using this to simulate true interests\n",
    "print(\"See %.1f%% of all possible interactions.\" % (100. * n_imp / (n_users * n_items)))\n",
    "\n",
    "# Simulate data (no features for now), using numpy\n",
    "np.random.seed(123)\n",
    "user_true_emb = np.random.randn(n_users, true_emb_dim)\n",
    "user_true_emb = user_true_emb / np.sqrt(np.square(user_true_emb).sum(axis=1)).reshape(-1, 1)\n",
    "item_true_emb = np.random.randn(n_items, true_emb_dim)\n",
    "item_true_emb = item_true_emb / np.sqrt(np.square(item_true_emb).sum(axis=1)).reshape(-1, 1)\n",
    "users, items = pd.DataFrame({'dummy': np.zeros(n_users)}), pd.DataFrame({'dummy': np.zeros(n_items)})\n",
    "# genders = ['male', 'non-binary', 'female']\n",
    "# users = pd.DataFrame({\n",
    "#     'age': np.maximum(18, 40 + 15 * np.random.randn(n_users)).astype(int),\n",
    "#     'gender': np.random.choice(genders, n_users, p=[.49, .49, .02]),\n",
    "# })\n",
    "# topics = ['food', 'culture', 'civics', 'sports', 'science', 'business']  # just random categories\n",
    "# items = pd.DataFrame({\n",
    "#     'topic': np.random.choice(topics, n_items),  # uniform distribution\n",
    "# })\n",
    "\n",
    "# cat_features = [genders, topics]\n",
    "# cat_emb = {category: np.random.randn(true_emb_dim) for feature in cat_features for category in feature}\n",
    "# emb = np.random.randn(n_users, true_emb_dim) \\\n",
    "#     + (users['age'] / users['age'].max()).values.reshape(-1, 1) \\\n",
    "#     + np.array(users['gender'].map(cat_emb).tolist())\n",
    "# emb = (emb - emb.mean(axis=1).reshape(-1, 1)) / emb.std(axis=1).reshape(-1, 1) \n",
    "# user_true_emb = emb \n",
    "# emb = np.random.randn(n_items, true_emb_dim) + np.array(items['topic'].map(cat_emb).tolist())\n",
    "# emb = (emb - emb.mean(axis=1).reshape(-1, 1)) / emb.std(axis=1).reshape(-1, 1)\n",
    "# item_true_emb = emb\n",
    "\n",
    "p_true = sigmoid(user_true_emb.dot(item_true_emb.T))  # true proability of user i liking item j\n",
    "print(p_true.shape, p_true.mean())\n",
    "\n",
    "# Generate data to feed into model, using tensors\n",
    "# g = torch.Generator(device=device).manual_seed(123) # for reproducibility\n",
    "# user_ids = torch.randint(0, n_users, (n_imp,), generator=g)  # this includes (user, item) duplicate pairs, so does not work as well\n",
    "# item_ids = torch.randint(0, n_items, (n_imp,), generator=g)\n",
    "user_ids = torch.cat([torch.full((n_items,), i, device=device) for i in range(n_users)])[:n_imp]\n",
    "item_ids = torch.cat([torch.arange(n_items, device=device)] * n_users)[:n_imp]\n",
    "labels = (torch.tensor(p_true, dtype=dtype, device=device)[user_ids, item_ids] > .5).type(dtype)  # deterministic\n",
    "# labels = (torch.tensor(p_true).to(device)[user_ids, item_ids] > torch.rand(n_imp)).float()  # probabilitic (prob needs repeats)\n",
    "print(labels.cpu().numpy().mean())\n",
    "# labels"
   ]
  },
  {
   "cell_type": "code",
   "execution_count": 10,
   "id": "ae036742-6373-43f8-a934-a32f10ba4e14",
   "metadata": {},
   "outputs": [],
   "source": [
    "# torch hyperparameters\n",
    "lr = 0.01\n",
    "n_epochs = 100\n",
    "n_print = 10"
   ]
  },
  {
   "cell_type": "code",
   "execution_count": 11,
   "id": "714550cf-f453-4d8d-8ca2-482e2cf2b8e7",
   "metadata": {},
   "outputs": [
    {
     "name": "stdout",
     "output_type": "stream",
     "text": [
      "2\n"
     ]
    }
   ],
   "source": [
    "print(true_emb_dim)"
   ]
  },
  {
   "cell_type": "code",
   "execution_count": 12,
   "id": "3d404d99-9a0e-48d5-86fa-35766033e195",
   "metadata": {},
   "outputs": [],
   "source": [
    "# user_ids[test_idx]"
   ]
  },
  {
   "cell_type": "code",
   "execution_count": 13,
   "id": "d26aa81c-9254-4dea-b687-099f0d61037f",
   "metadata": {},
   "outputs": [
    {
     "name": "stdout",
     "output_type": "stream",
     "text": [
      "Epoch    1, Loss: 0.7619, Test loss: 0.6977\n",
      "Epoch   11, Loss: 0.7424, Test loss: 0.7567\n"
     ]
    }
   ],
   "source": [
    "torch.manual_seed(134)\n",
    "model = TwoTowerModel(users, items, embedding_dim=2, hidden_dims=[], device=device)\n",
    "\n",
    "# Training\n",
    "criterion = nn.BCEWithLogitsLoss()\n",
    "optimizer = optim.Adam(model.parameters(), lr=lr)\n",
    "\n",
    "# Train / test split\n",
    "frac_test = .1\n",
    "test_idx = torch.rand(n_imp).to(device) < frac_test\n",
    "train_idx = ~test_idx\n",
    "\n",
    "# Training loop\n",
    "stats = []\n",
    "stop_epoch_delay = 1 * n_epochs // n_print\n",
    "for epoch in range(n_epochs):\n",
    "    model.train()\n",
    "    optimizer.zero_grad()\n",
    "\n",
    "    uids, iids = user_ids[train_idx], item_ids[train_idx]\n",
    "    logits = model.forward(uids, iids)\n",
    "    loss = criterion(logits, labels[train_idx])\n",
    "\n",
    "    test_logits = model.forward(user_ids[test_idx], item_ids[test_idx])\n",
    "    test_loss = criterion(test_logits, labels[test_idx])\n",
    "    \n",
    "    loss.backward()\n",
    "    optimizer.step()\n",
    "    \n",
    "    stats.append({'epoch': epoch, 'loss': loss.item(), 'test loss': test_loss.item()})\n",
    "    if epoch % (n_epochs // n_print) == 0:\n",
    "        print(f\"Epoch {epoch+1:4}, Loss: {loss.item():.4f}, Test loss: {test_loss.item():.4f}\")\n",
    "\n",
    "    if len(stats) > stop_epoch_delay and stats[-stop_epoch_delay]['test loss'] > stats[-stop_epoch_delay - 1]['test loss']:\n",
    "        stats[-stop_epoch_delay - 1]['stop'] = True\n",
    "        break\n",
    "stats[-1]['stop'] = True        \n",
    "stats = pd.DataFrame(stats).set_index('epoch')"
   ]
  },
  {
   "cell_type": "code",
   "execution_count": null,
   "id": "d40f3337-3d46-4bca-92e5-08426e7de8f7",
   "metadata": {},
   "outputs": [],
   "source": []
  },
  {
   "cell_type": "code",
   "execution_count": 14,
   "id": "6d919962-3fa4-4c6c-978a-275d20e07cde",
   "metadata": {},
   "outputs": [
    {
     "data": {
      "image/png": "[encoded data removed]",
      "text/plain": [
       "<Figure size 1600x200 with 1 Axes>"
      ]
     },
     "metadata": {},
     "output_type": "display_data"
    }
   ],
   "source": [
    "ax = stats.plot(figsize=(16, 2))\n",
    "x = stats['stop'].dropna().index[0]\n",
    "ax.vlines(x, stats['loss'][x] - .1, stats['test loss'][x] + .1, lw=.5, color='k')\n",
    "_ = ax.set_xlim(0, len(stats)), ax.set_ylim(0, 1.05 * stats.max().max())"
   ]
  },
  {
   "cell_type": "code",
   "execution_count": 15,
   "id": "4380db58-71e7-43ec-a1c3-5d6fa5338e50",
   "metadata": {},
   "outputs": [
    {
     "data": {
      "image/png": "[encoded data removed]",
      "text/plain": [
       "<Figure size 1600x200 with 1 Axes>"
      ]
     },
     "metadata": {},
     "output_type": "display_data"
    }
   ],
   "source": [
    "df = stats.diff()\n",
    "ax = df.plot(figsize=(16, 2))\n",
    "ax.axhline(0, lw=.5, color='k')\n",
    "ax.vlines(x, df['loss'][x] - .01, df['test loss'][x] + .01, lw=.5, color='k')\n",
    "_ = ax.set_xlim(0, len(stats)), ax.set_ylim(df.min().min() - .05, df.max().max() + .05)"
   ]
  },
  {
   "cell_type": "code",
   "execution_count": 16,
   "id": "a2f3e1b4-a8a2-4569-bf21-4d94df5452dd",
   "metadata": {},
   "outputs": [],
   "source": [
    "# y_pred"
   ]
  },
  {
   "cell_type": "code",
   "execution_count": 17,
   "id": "8085be5f-6151-42cc-8797-4cbb9da071da",
   "metadata": {},
   "outputs": [
    {
     "name": "stdout",
     "output_type": "stream",
     "text": [
      "prev  0.5\n",
      "train auc 0.5118  acc 0.5106  p 0.5357  r 0.4894\n",
      "test  auc 0.5000  acc 0.3333  p 0.6100  r 0.6667\n"
     ]
    }
   ],
   "source": [
    "y_pred = sigmoid(logits.cpu().detach().numpy()).round(2)\n",
    "y = labels[train_idx].cpu().detach().numpy()\n",
    "\n",
    "print('prev ', labels.cpu().detach().numpy().mean())\n",
    "print('train auc %.4f  acc %.4f  p %.4f  r %.4f' % \n",
    "      (roc_auc_score(y, y_pred), (y_pred.astype(int) == y).mean(), y_pred[y.astype(bool)].mean(), y[y_pred.astype(bool)].mean()))\n",
    "\n",
    "y_pred = sigmoid(test_logits.cpu().detach().numpy()).round(2)\n",
    "y = labels[test_idx].cpu().detach().numpy()\n",
    "print('test  auc %.4f  acc %.4f  p %.4f  r %.4f' % \n",
    "      (roc_auc_score(y, y_pred), (y_pred.astype(int) == y).mean(), y_pred[y.astype(bool)].mean(), y[y_pred.astype(bool)].mean()))"
   ]
  },
  {
   "cell_type": "code",
   "execution_count": null,
   "id": "d7b5e34b-5eba-42da-9486-fed73876d007",
   "metadata": {},
   "outputs": [],
   "source": []
  },
  {
   "cell_type": "code",
   "execution_count": null,
   "id": "851918b7-7918-4bf0-84f9-29398d7c69b4",
   "metadata": {},
   "outputs": [],
   "source": []
  }
 ],
 "metadata": {
  "kernelspec": {
   "display_name": "Python 3 (ipykernel)",
   "language": "python",
   "name": "python3"
  },
  "language_info": {
   "codemirror_mode": {
    "name": "ipython",
    "version": 3
   },
   "file_extension": ".py",
   "mimetype": "text/x-python",
   "name": "python",
   "nbconvert_exporter": "python",
   "pygments_lexer": "ipython3",
   "version": "3.11.7"
  }
 },
 "nbformat": 4,
 "nbformat_minor": 5
}
