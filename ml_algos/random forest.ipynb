{
 "cells": [
  {
   "cell_type": "code",
   "execution_count": 1,
   "id": "58762a6b",
   "metadata": {},
   "outputs": [],
   "source": [
    "# code random forest from scratch"
   ]
  },
  {
   "cell_type": "code",
   "execution_count": 2,
   "id": "652a15b2",
   "metadata": {},
   "outputs": [],
   "source": [
    "import numpy as np\n",
    "import pandas as pd\n",
    "from matplotlib import pyplot as plt\n",
    "import seaborn as sns\n",
    "sns.set()"
   ]
  },
  {
   "cell_type": "code",
   "execution_count": 84,
   "id": "03eaf5f7",
   "metadata": {},
   "outputs": [
    {
     "data": {
      "text/plain": [
       "array([0.66666667, 0.33333333])"
      ]
     },
     "execution_count": 84,
     "metadata": {},
     "output_type": "execute_result"
    }
   ],
   "source": [
    "a = [0, 1, 0]\n",
    "_, counts = np.unique(a, return_counts=True)\n",
    "p = counts / counts.sum()\n",
    "p"
   ]
  },
  {
   "cell_type": "code",
   "execution_count": 89,
   "id": "490f9e61",
   "metadata": {},
   "outputs": [
    {
     "data": {
      "text/plain": [
       "(0.6365141682948128, 0.6365141682948128, -0.0)"
      ]
     },
     "execution_count": 89,
     "metadata": {},
     "output_type": "execute_result"
    }
   ],
   "source": [
    "def entropy(a):\n",
    "    \"\"\"entropy of category distribution\"\"\"\n",
    "    p = np.unique(a, return_counts=True)[1] / len(a)\n",
    "    p = p[p > 0]  # make x log x = 0 for x = 0\n",
    "    return -(p * np.log(p)).sum()\n",
    "\n",
    "entropy([0, 0, 1]), entropy([0, 1, 1]), entropy([1, 1, 1])"
   ]
  },
  {
   "cell_type": "code",
   "execution_count": 90,
   "id": "4116bc35",
   "metadata": {},
   "outputs": [],
   "source": [
    "def sigmoid(x):\n",
    "    return np.exp(x) / (1 + np.exp(x))"
   ]
  },
  {
   "cell_type": "code",
   "execution_count": 186,
   "id": "9f014a6f",
   "metadata": {},
   "outputs": [
    {
     "name": "stdout",
     "output_type": "stream",
     "text": [
      "1.0 0.0 0.5\n"
     ]
    }
   ],
   "source": [
    "def auc(label, score):\n",
    "    \"\"\"Assuming no ties in score.\"\"\"\n",
    "    label, score = np.array(label, dtype=bool), np.array(score, dtype=float)\n",
    "    return (score[label] > score[~label].reshape(-1, 1)).mean()\n",
    "\n",
    "print(auc([0, 0, 1, 1], [.2, .4, .6, .8]), \n",
    "      auc([1, 1, 0, 0], [.2, .4, .6, .8]),\n",
    "      auc([0, 1, 1, 0], [.2, .4, .6, .8]))"
   ]
  },
  {
   "cell_type": "code",
   "execution_count": 187,
   "id": "7ae46323",
   "metadata": {},
   "outputs": [
    {
     "name": "stdout",
     "output_type": "stream",
     "text": [
      "0.3669845875401002 1.2628643221541278 0.814924454847114\n"
     ]
    }
   ],
   "source": [
    "def log_loss(label, score):\n",
    "    label, score = np.array(label, dtype=bool), np.array(score, dtype=float)\n",
    "    score = np.minimum(1 - 1e-6, np.maximum(1e-6, score))  # get rid of perfect 0s and 1\n",
    "    return -1. / len(label) * (label * np.log(score) + (1 - label) * np.log(1 - score)).sum() \n",
    "\n",
    "print(log_loss([0, 0, 1, 1], [.2, .4, .6, .8]), \n",
    "      log_loss([1, 1, 0, 0], [.2, .4, .6, .8]),\n",
    "      log_loss([0, 1, 1, 0], [.2, .4, .6, .8]))"
   ]
  },
  {
   "cell_type": "code",
   "execution_count": 188,
   "id": "553db2a0",
   "metadata": {},
   "outputs": [
    {
     "data": {
      "text/plain": [
       "0.504"
      ]
     },
     "execution_count": 188,
     "metadata": {},
     "output_type": "execute_result"
    }
   ],
   "source": [
    "np.random.seed(1234)\n",
    "n, m = 1000, 20\n",
    "X = np.random.randn(n, m)\n",
    "true_coef = np.random.randn(m)\n",
    "true_bias = np.random.randn()\n",
    "noise = 3 * np.random.randn(n)\n",
    "y = (sigmoid(X.dot(true_coef) + true_bias + noise) < .5).astype(int)\n",
    "y.mean()"
   ]
  },
  {
   "cell_type": "code",
   "execution_count": 189,
   "id": "beb7a6e0",
   "metadata": {},
   "outputs": [
    {
     "data": {
      "text/plain": [
       "(1000,)"
      ]
     },
     "execution_count": 189,
     "metadata": {},
     "output_type": "execute_result"
    }
   ],
   "source": [
    "X.dot(true_coef).shape"
   ]
  },
  {
   "cell_type": "code",
   "execution_count": 286,
   "id": "333a5aae",
   "metadata": {},
   "outputs": [],
   "source": [
    "np.random.seed(123)\n",
    "frac_test = .2\n",
    "test_idx = np.random.random(len(X)) < frac_test\n",
    "X_train, X_test, y_train, y_test = X[~test_idx], X[test_idx], y[~test_idx], y[test_idx]"
   ]
  },
  {
   "cell_type": "code",
   "execution_count": 287,
   "id": "12572180",
   "metadata": {},
   "outputs": [
    {
     "name": "stdout",
     "output_type": "stream",
     "text": [
      "1.2011519872092786 0.5322850035536603\n"
     ]
    }
   ],
   "source": [
    "np.random.seed(456)\n",
    "coef = np.random.random(m)\n",
    "bias = np.random.randn()\n",
    "y_pred = sigmoid(X_train.dot(coef) + bias)\n",
    "print(log_loss(y_train, y_pred), auc(y_train, y_pred))"
   ]
  },
  {
   "cell_type": "code",
   "execution_count": null,
   "id": "6c4e02f8",
   "metadata": {},
   "outputs": [],
   "source": []
  },
  {
   "cell_type": "code",
   "execution_count": 288,
   "id": "a1d2e406",
   "metadata": {},
   "outputs": [
    {
     "data": {
      "text/plain": [
       "[0, 7, 9, 14]"
      ]
     },
     "execution_count": 288,
     "metadata": {},
     "output_type": "execute_result"
    }
   ],
   "source": [
    "features = sorted(np.random.choice(m, int(np.sqrt(m)), replace=False))\n",
    "features"
   ]
  },
  {
   "cell_type": "code",
   "execution_count": 291,
   "id": "f5f9fe93",
   "metadata": {},
   "outputs": [],
   "source": [
    "def find_split(X, y, random=False):\n",
    "    X, y = np.array(X), np.array(y)\n",
    "    cost = entropy(y)\n",
    "    f, t, g = 0, 0, 0\n",
    "    m = X.shape[1]\n",
    "    features = np.random.choice(m, int(np.sqrt(m)), replace=False) if random else np.arange(m)\n",
    "    for i, x in enumerate(X[:, features].T):\n",
    "        # mu, sigma = x.mean(), x.std()\n",
    "        thresholds = np.unique(x)\n",
    "        for threshold in thresholds:\n",
    "            y1, y2 = y[x < threshold], y[x >= threshold]\n",
    "            if len(y1) and len(y2):\n",
    "                new_cost = (len(y1) * entropy(y1) + len(y2) * entropy(y2)) / len(y)  # weighted\n",
    "                gain = cost - new_cost\n",
    "                if new_cost == 0:  # perfect split\n",
    "                    return i, threshold, gain\n",
    "                elif gain > g:\n",
    "                    f = i\n",
    "                    t = threshold\n",
    "                    g = gain\n",
    "    return f, t, g"
   ]
  },
  {
   "cell_type": "code",
   "execution_count": 292,
   "id": "04a2f7f6",
   "metadata": {},
   "outputs": [
    {
     "data": {
      "text/plain": [
       "0.569"
      ]
     },
     "execution_count": 292,
     "metadata": {},
     "output_type": "execute_result"
    }
   ],
   "source": [
    "np.random.seed(1212)\n",
    "f, t, g = find_split(X[:, np.random.permutation(X.shape[1])], y)\n",
    "idx = X[:, f] < t\n",
    "idx.mean()"
   ]
  },
  {
   "cell_type": "code",
   "execution_count": 293,
   "id": "8a1fe20c",
   "metadata": {},
   "outputs": [],
   "source": [
    "def create_tree(X, y, random=False):\n",
    "    X, y = np.array(X), np.array(y)\n",
    "    node = {'y_mean': y.mean(), 'n': len(X)}\n",
    "    if entropy(y) > 0:\n",
    "        f, t, g = find_split(X, y, random=random)\n",
    "        idx = X[:, f] < t\n",
    "        if idx.any() and not idx.all():\n",
    "            node = {\n",
    "                'feature': f,\n",
    "                'threshold': t,\n",
    "                'gain': g,\n",
    "            }           \n",
    "            node['lower'] = create_tree(X[idx], y[idx], random=random)\n",
    "            node['higher'] = create_tree(X[~idx], y[~idx], random=random)\n",
    "    return node"
   ]
  },
  {
   "cell_type": "code",
   "execution_count": 294,
   "id": "564cfcd2",
   "metadata": {},
   "outputs": [
    {
     "name": "stdout",
     "output_type": "stream",
     "text": [
      "CPU times: user 3.22 s, sys: 5.47 ms, total: 3.22 s\n",
      "Wall time: 3.23 s\n"
     ]
    }
   ],
   "source": [
    "%%time\n",
    "root = create_tree(X, y)"
   ]
  },
  {
   "cell_type": "code",
   "execution_count": 295,
   "id": "ae596cb8",
   "metadata": {},
   "outputs": [],
   "source": [
    "# root"
   ]
  },
  {
   "cell_type": "code",
   "execution_count": 296,
   "id": "14c49a07",
   "metadata": {},
   "outputs": [],
   "source": [
    "def predict_tree(X, node):\n",
    "    if 'y_mean' in node:\n",
    "        return node['y_mean'] * np.ones(len(X))\n",
    "    else:\n",
    "        y_pred = np.ones(len(X))\n",
    "        idx = X[:, node['feature']] < node['threshold']\n",
    "        y_pred[idx] = predict(X[idx], node['lower'])\n",
    "        y_pred[~idx] = predict(X[~idx], node['higher'])\n",
    "        return y_pred"
   ]
  },
  {
   "cell_type": "code",
   "execution_count": 297,
   "id": "9ca1a8db",
   "metadata": {},
   "outputs": [
    {
     "name": "stdout",
     "output_type": "stream",
     "text": [
      "CPU times: user 5.74 ms, sys: 1.27 ms, total: 7.01 ms\n",
      "Wall time: 7.29 ms\n"
     ]
    }
   ],
   "source": [
    "%%time\n",
    "y_pred = predict_tree(X, root)"
   ]
  },
  {
   "cell_type": "code",
   "execution_count": 298,
   "id": "c57fe1d2",
   "metadata": {},
   "outputs": [
    {
     "data": {
      "text/plain": [
       "(1.0000005000290889e-06, 1.0)"
      ]
     },
     "execution_count": 298,
     "metadata": {},
     "output_type": "execute_result"
    }
   ],
   "source": [
    "log_loss(y, y_pred), auc(y, y_pred)"
   ]
  },
  {
   "cell_type": "markdown",
   "id": "bd431e07",
   "metadata": {},
   "source": [
    "but, mega-overfitted:"
   ]
  },
  {
   "cell_type": "code",
   "execution_count": 299,
   "id": "568dbd4c",
   "metadata": {},
   "outputs": [
    {
     "name": "stdout",
     "output_type": "stream",
     "text": [
      "1.000000500029089e-06 1.0\n",
      "5.9763731121460975 0.32269503546099293\n",
      "CPU times: user 2.47 s, sys: 4.23 ms, total: 2.47 s\n",
      "Wall time: 2.48 s\n"
     ]
    }
   ],
   "source": [
    "%%time\n",
    "root2 = create_tree(X_train, y_train)\n",
    "y_pred2 = predict_tree(X_train, root2)\n",
    "print(log_loss(y_train, y_pred2), auc(y_train, y_pred2))\n",
    "y_pred2_test = predict_tree(X_test, root2)\n",
    "print(log_loss(y_test, y_pred2_test), auc(y_test, y_pred2_test))"
   ]
  },
  {
   "cell_type": "code",
   "execution_count": null,
   "id": "73710118",
   "metadata": {},
   "outputs": [],
   "source": []
  },
  {
   "cell_type": "code",
   "execution_count": 324,
   "id": "9e3e88f3",
   "metadata": {},
   "outputs": [],
   "source": [
    "def create_forest(X, y, n_trees=100):\n",
    "    X, y = np.array(X), np.array(y)\n",
    "    trees = []\n",
    "    for _ in range(n_trees):\n",
    "        idx = np.random.choice(len(X), len(X), replace=True)  # bootstrapping\n",
    "        trees.append(create_tree(X[idx], y[idx], random=True))\n",
    "    return trees"
   ]
  },
  {
   "cell_type": "code",
   "execution_count": 325,
   "id": "0065ab03",
   "metadata": {},
   "outputs": [],
   "source": [
    "def predict_forest(X, trees):\n",
    "    return np.array([predict_tree(X, tree) for tree in forest]).mean(axis=0)"
   ]
  },
  {
   "cell_type": "code",
   "execution_count": 328,
   "id": "7bc83739",
   "metadata": {},
   "outputs": [
    {
     "name": "stdout",
     "output_type": "stream",
     "text": [
      "CPU times: user 7.06 s, sys: 5.78 ms, total: 7.06 s\n",
      "Wall time: 7.09 s\n"
     ]
    }
   ],
   "source": [
    "%%time\n",
    "forest = create_forest(X_train, y_train, n_trees=30)"
   ]
  },
  {
   "cell_type": "code",
   "execution_count": 329,
   "id": "be23a6ee",
   "metadata": {},
   "outputs": [
    {
     "name": "stdout",
     "output_type": "stream",
     "text": [
      "0.6051876722365546 0.7966358682776593\n",
      "0.6503269007820847 0.7094731509625126\n"
     ]
    }
   ],
   "source": [
    "y_pred_f = predict_forest(X_train, forest)\n",
    "print(log_loss(y_train, y_pred_f), auc(y_train, y_pred_f))\n",
    "y_pred_f_test = predict_forest(X_test, forest)\n",
    "print(log_loss(y_test, y_pred_f_test), auc(y_test, y_pred_f_test))"
   ]
  },
  {
   "cell_type": "code",
   "execution_count": 307,
   "id": "1137b5f8",
   "metadata": {},
   "outputs": [
    {
     "name": "stdout",
     "output_type": "stream",
     "text": [
      "0.6071706507420548 0.7976072020848141\n",
      "0.6583788589033591 0.6742654508611955\n"
     ]
    }
   ],
   "source": [
    "y_pred_f = predict_forest(X_train, forest)\n",
    "print(log_loss(y_train, y_pred_f), auc(y_train, y_pred_f))\n",
    "y_pred_f_test = predict_forest(X_test, forest)\n",
    "print(log_loss(y_test, y_pred_f_test), auc(y_test, y_pred_f_test))"
   ]
  },
  {
   "cell_type": "code",
   "execution_count": null,
   "id": "e9ccf889",
   "metadata": {},
   "outputs": [],
   "source": []
  },
  {
   "cell_type": "code",
   "execution_count": null,
   "id": "5c77691a",
   "metadata": {},
   "outputs": [],
   "source": []
  },
  {
   "cell_type": "code",
   "execution_count": null,
   "id": "1605aaaa",
   "metadata": {},
   "outputs": [],
   "source": []
  }
 ],
 "metadata": {
  "kernelspec": {
   "display_name": "Python 3 (ipykernel)",
   "language": "python",
   "name": "python3"
  },
  "language_info": {
   "codemirror_mode": {
    "name": "ipython",
    "version": 3
   },
   "file_extension": ".py",
   "mimetype": "text/x-python",
   "name": "python",
   "nbconvert_exporter": "python",
   "pygments_lexer": "ipython3",
   "version": "3.11.7"
  }
 },
 "nbformat": 4,
 "nbformat_minor": 5
}
