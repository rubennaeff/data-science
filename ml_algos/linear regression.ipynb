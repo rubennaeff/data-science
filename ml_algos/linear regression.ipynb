{
 "cells": [
  {
   "cell_type": "code",
   "execution_count": 1,
   "id": "854179ea",
   "metadata": {},
   "outputs": [],
   "source": [
    "# code linear regression from scratch"
   ]
  },
  {
   "cell_type": "code",
   "execution_count": 2,
   "id": "bd59c035",
   "metadata": {},
   "outputs": [],
   "source": [
    "import numpy as np\n",
    "import pandas as pd\n",
    "from matplotlib import pyplot as plt\n",
    "import seaborn as sns\n",
    "sns.set()"
   ]
  },
  {
   "cell_type": "code",
   "execution_count": 19,
   "id": "0abd53fb",
   "metadata": {},
   "outputs": [],
   "source": [
    "def mse(y, y_pred):\n",
    "    return np.square(y - y_pred).mean()"
   ]
  },
  {
   "cell_type": "code",
   "execution_count": 90,
   "id": "8a3bdfda",
   "metadata": {},
   "outputs": [],
   "source": [
    "def rmse(y, y_pred):\n",
    "    return np.sqrt(np.square(y - y_pred).mean())"
   ]
  },
  {
   "cell_type": "code",
   "execution_count": 20,
   "id": "204e1d3f",
   "metadata": {},
   "outputs": [],
   "source": [
    "def mae(y, y_pred):\n",
    "    return np.abs(y - y_pred).mean()"
   ]
  },
  {
   "cell_type": "code",
   "execution_count": 73,
   "id": "9cb653fb",
   "metadata": {},
   "outputs": [],
   "source": [
    "def r2(y, y_pred):\n",
    "    ss_res = np.square(y - y_pred).sum()\n",
    "    ss_tot = np.square(y - y.mean()).sum()\n",
    "    return 1 - ss_res / ss_tot"
   ]
  },
  {
   "cell_type": "code",
   "execution_count": null,
   "id": "645a273a",
   "metadata": {},
   "outputs": [],
   "source": []
  },
  {
   "cell_type": "code",
   "execution_count": 95,
   "id": "b8f6a225",
   "metadata": {},
   "outputs": [],
   "source": [
    "np.random.seed(1234)\n",
    "n, m = 10000, 20\n",
    "X = np.random.randn(n, m)\n",
    "true_coef = np.random.randn(m)\n",
    "true_bias = np.random.randn()\n",
    "y = X.dot(true_coef) + true_bias"
   ]
  },
  {
   "cell_type": "code",
   "execution_count": 96,
   "id": "beb597e2",
   "metadata": {},
   "outputs": [],
   "source": [
    "np.random.seed(123)\n",
    "frac_test = .2\n",
    "test_idx = np.random.random(len(X)) < frac_test\n",
    "X_train, X_test, y_train, y_test = X[~test_idx], X[test_idx], y[~test_idx], y[test_idx]"
   ]
  },
  {
   "cell_type": "code",
   "execution_count": 97,
   "id": "e171c511",
   "metadata": {},
   "outputs": [
    {
     "name": "stdout",
     "output_type": "stream",
     "text": [
      "28.00585258866958 4.214212681606484 -0.6540199278197727\n"
     ]
    }
   ],
   "source": [
    "np.random.seed(456)\n",
    "coef = np.random.random(m)\n",
    "bias = np.random.randn()\n",
    "y_pred = X_train.dot(coef) + bias\n",
    "print(mse(y_train, y_pred), mae(y_train, y_pred), r2(y_train, y_pred))"
   ]
  },
  {
   "cell_type": "code",
   "execution_count": 98,
   "id": "4f638f5b",
   "metadata": {},
   "outputs": [
    {
     "name": "stdout",
     "output_type": "stream",
     "text": [
      "MSE 27.4532  MAE  4.1724  R^2 -0.6214\n",
      "MSE  3.7616  MAE  1.5454  R^2  0.7778\n",
      "MSE  0.5210  MAE  0.5758  R^2  0.9692\n",
      "MSE  0.0729  MAE  0.2156  R^2  0.9957\n",
      "MSE  0.0103  MAE  0.0812  R^2  0.9994\n",
      "MSE  0.0015  MAE  0.0307  R^2  0.9999\n",
      "MSE  0.0002  MAE  0.0117  R^2  1.0000\n",
      "MSE  0.0000  MAE  0.0044  R^2  1.0000\n",
      "MSE  0.0000  MAE  0.0017  R^2  1.0000\n",
      "MSE  0.0000  MAE  0.0007  R^2  1.0000\n"
     ]
    }
   ],
   "source": [
    "rate = 0.01\n",
    "n_steps = 1000\n",
    "stats = []\n",
    "for i in range(n_steps):\n",
    "    gr = 1. / len(X_train) * ((X_train.dot(coef) + bias) - y_train)\n",
    "    coef_grad = gr.dot(X_train)\n",
    "    bias_grad = gr.sum() * 1\n",
    "    coef, bias = coef - rate * coef_grad, bias - rate * bias_grad  # want to minimize\n",
    "    y_pred = X_train.dot(coef) + bias\n",
    "    if i % (n_steps // 100) == 0:\n",
    "        my_mse, my_mae, my_r2 = mse(y_train, y_pred), mae(y_train, y_pred), r2(y_train, y_pred)\n",
    "        y_pred_test = X_test.dot(coef) + bias\n",
    "        my_mse_test, my_mae_test, my_r2_test = \\\n",
    "            mse(y_test, y_pred_test), mae(y_test, y_pred_test), r2(y_test, y_pred_test)\n",
    "        stats.append({\n",
    "            'i': i,\n",
    "            'mse': my_mse,\n",
    "            'rmse': np.sqrt(my_mse),\n",
    "            'mae': my_mae,\n",
    "            'r^2': my_r2,\n",
    "            'mse test': my_mse_test,\n",
    "            'rmse test': np.sqrt(my_mse_test),\n",
    "            'mae test': my_mae_test,\n",
    "            'r^2 test': my_r2_test,\n",
    "        })\n",
    "        if i % (n_steps // 10) == 0:\n",
    "            print(\"MSE %7.4f  MAE %7.4f  R^2 %7.4f\" % (my_mse, my_mae, my_r2))\n",
    "stats = pd.DataFrame(stats).set_index('i')"
   ]
  },
  {
   "cell_type": "code",
   "execution_count": 99,
   "id": "74cc4943",
   "metadata": {},
   "outputs": [
    {
     "data": {
      "text/plain": [
       "array([-2.27059535e-05,  1.95100256e-05,  3.75238376e-05,  4.69249596e-05,\n",
       "        5.05044888e-05,  3.73234267e-06,  8.48731147e-05,  1.39714304e-05,\n",
       "       -1.06574320e-04,  4.99082673e-08,  1.68681114e-05, -1.25226809e-05,\n",
       "        1.07918960e-04, -2.98074159e-05, -9.27730686e-05, -6.46943141e-05,\n",
       "        1.75082686e-04,  6.84644517e-05,  3.72304767e-05,  7.58541361e-05])"
      ]
     },
     "execution_count": 99,
     "metadata": {},
     "output_type": "execute_result"
    }
   ],
   "source": [
    "coef_grad"
   ]
  },
  {
   "cell_type": "code",
   "execution_count": 100,
   "id": "32a2bcd7",
   "metadata": {},
   "outputs": [
    {
     "data": {
      "text/html": [
       "<div>\n",
       "<style scoped>\n",
       "    .dataframe tbody tr th:only-of-type {\n",
       "        vertical-align: middle;\n",
       "    }\n",
       "\n",
       "    .dataframe tbody tr th {\n",
       "        vertical-align: top;\n",
       "    }\n",
       "\n",
       "    .dataframe thead th {\n",
       "        text-align: right;\n",
       "    }\n",
       "</style>\n",
       "<table border=\"1\" class=\"dataframe\">\n",
       "  <thead>\n",
       "    <tr style=\"text-align: right;\">\n",
       "      <th></th>\n",
       "      <th>mse</th>\n",
       "      <th>rmse</th>\n",
       "      <th>mae</th>\n",
       "      <th>r^2</th>\n",
       "      <th>mse test</th>\n",
       "      <th>rmse test</th>\n",
       "      <th>mae test</th>\n",
       "      <th>r^2 test</th>\n",
       "    </tr>\n",
       "    <tr>\n",
       "      <th>i</th>\n",
       "      <th></th>\n",
       "      <th></th>\n",
       "      <th></th>\n",
       "      <th></th>\n",
       "      <th></th>\n",
       "      <th></th>\n",
       "      <th></th>\n",
       "      <th></th>\n",
       "    </tr>\n",
       "  </thead>\n",
       "  <tbody>\n",
       "    <tr>\n",
       "      <th>0</th>\n",
       "      <td>27.453170</td>\n",
       "      <td>5.239577</td>\n",
       "      <td>4.172436</td>\n",
       "      <td>-0.621379</td>\n",
       "      <td>27.345410</td>\n",
       "      <td>5.229284</td>\n",
       "      <td>4.157769</td>\n",
       "      <td>-0.572761</td>\n",
       "    </tr>\n",
       "    <tr>\n",
       "      <th>10</th>\n",
       "      <td>22.493436</td>\n",
       "      <td>4.742725</td>\n",
       "      <td>3.776928</td>\n",
       "      <td>-0.328458</td>\n",
       "      <td>22.416196</td>\n",
       "      <td>4.734574</td>\n",
       "      <td>3.764641</td>\n",
       "      <td>-0.289259</td>\n",
       "    </tr>\n",
       "    <tr>\n",
       "      <th>20</th>\n",
       "      <td>18.431763</td>\n",
       "      <td>4.293223</td>\n",
       "      <td>3.419093</td>\n",
       "      <td>-0.088576</td>\n",
       "      <td>18.377500</td>\n",
       "      <td>4.286899</td>\n",
       "      <td>3.408824</td>\n",
       "      <td>-0.056975</td>\n",
       "    </tr>\n",
       "    <tr>\n",
       "      <th>30</th>\n",
       "      <td>15.105174</td>\n",
       "      <td>3.886537</td>\n",
       "      <td>3.095337</td>\n",
       "      <td>0.107892</td>\n",
       "      <td>15.068081</td>\n",
       "      <td>3.881763</td>\n",
       "      <td>3.086781</td>\n",
       "      <td>0.133365</td>\n",
       "    </tr>\n",
       "    <tr>\n",
       "      <th>40</th>\n",
       "      <td>12.380332</td>\n",
       "      <td>3.518570</td>\n",
       "      <td>2.802427</td>\n",
       "      <td>0.268820</td>\n",
       "      <td>12.355956</td>\n",
       "      <td>3.515104</td>\n",
       "      <td>2.795312</td>\n",
       "      <td>0.289352</td>\n",
       "    </tr>\n",
       "  </tbody>\n",
       "</table>\n",
       "</div>"
      ],
      "text/plain": [
       "          mse      rmse       mae       r^2   mse test  rmse test  mae test  \\\n",
       "i                                                                             \n",
       "0   27.453170  5.239577  4.172436 -0.621379  27.345410   5.229284  4.157769   \n",
       "10  22.493436  4.742725  3.776928 -0.328458  22.416196   4.734574  3.764641   \n",
       "20  18.431763  4.293223  3.419093 -0.088576  18.377500   4.286899  3.408824   \n",
       "30  15.105174  3.886537  3.095337  0.107892  15.068081   3.881763  3.086781   \n",
       "40  12.380332  3.518570  2.802427  0.268820  12.355956   3.515104  2.795312   \n",
       "\n",
       "    r^2 test  \n",
       "i             \n",
       "0  -0.572761  \n",
       "10 -0.289259  \n",
       "20 -0.056975  \n",
       "30  0.133365  \n",
       "40  0.289352  "
      ]
     },
     "execution_count": 100,
     "metadata": {},
     "output_type": "execute_result"
    }
   ],
   "source": [
    "stats.head()"
   ]
  },
  {
   "cell_type": "code",
   "execution_count": 105,
   "id": "9dece5c9",
   "metadata": {},
   "outputs": [
    {
     "data": {
      "text/plain": [
       "<Axes: xlabel='i'>"
      ]
     },
     "execution_count": 105,
     "metadata": {},
     "output_type": "execute_result"
    },
    {
     "data": {
      "image/png": "[encoded data removed]",
      "text/plain": [
       "<Figure size 640x480 with 1 Axes>"
      ]
     },
     "metadata": {},
     "output_type": "display_data"
    }
   ],
   "source": [
    "cols = ['rmse', 'mae', 'r^2', 'rmse test', 'mae test', 'r^2 test']\n",
    "stats[cols].plot()\n",
    "# [['ll', 'auc']].plot()\n",
    "# stats.columns"
   ]
  },
  {
   "cell_type": "code",
   "execution_count": 464,
   "id": "b4c564cc",
   "metadata": {},
   "outputs": [
    {
     "data": {
      "text/plain": [
       "(0.98, 1.0)"
      ]
     },
     "execution_count": 464,
     "metadata": {},
     "output_type": "execute_result"
    },
    {
     "data": {
      "image/png": "[encoded data removed]",
      "text/plain": [
       "<Figure size 640x480 with 1 Axes>"
      ]
     },
     "metadata": {},
     "output_type": "display_data"
    }
   ],
   "source": [
    "ax = stats[['auc', 'auc_test']].plot()\n",
    "ax.set_ylim(.98, 1)"
   ]
  },
  {
   "cell_type": "code",
   "execution_count": null,
   "id": "980fe254",
   "metadata": {},
   "outputs": [],
   "source": []
  },
  {
   "cell_type": "code",
   "execution_count": null,
   "id": "ba461e93",
   "metadata": {},
   "outputs": [],
   "source": []
  }
 ],
 "metadata": {
  "kernelspec": {
   "display_name": "Python 3 (ipykernel)",
   "language": "python",
   "name": "python3"
  },
  "language_info": {
   "codemirror_mode": {
    "name": "ipython",
    "version": 3
   },
   "file_extension": ".py",
   "mimetype": "text/x-python",
   "name": "python",
   "nbconvert_exporter": "python",
   "pygments_lexer": "ipython3",
   "version": "3.11.7"
  }
 },
 "nbformat": 4,
 "nbformat_minor": 5
}
