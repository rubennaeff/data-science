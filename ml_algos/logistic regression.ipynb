{
 "cells": [
  {
   "cell_type": "code",
   "execution_count": 1,
   "id": "58762a6b",
   "metadata": {},
   "outputs": [],
   "source": [
    "# code logistic regression from scratch"
   ]
  },
  {
   "cell_type": "code",
   "execution_count": 415,
   "id": "652a15b2",
   "metadata": {},
   "outputs": [],
   "source": [
    "import numpy as np\n",
    "import pandas as pd\n",
    "from matplotlib import pyplot as plt\n",
    "import seaborn as sns\n",
    "sns.set()"
   ]
  },
  {
   "cell_type": "code",
   "execution_count": null,
   "id": "03eaf5f7",
   "metadata": {},
   "outputs": [],
   "source": []
  },
  {
   "cell_type": "code",
   "execution_count": 5,
   "id": "490f9e61",
   "metadata": {},
   "outputs": [],
   "source": [
    "def sigmoid(x):\n",
    "    return np.exp(x) / (1 + np.exp(x))"
   ]
  },
  {
   "cell_type": "code",
   "execution_count": 61,
   "id": "6affbdca",
   "metadata": {},
   "outputs": [
    {
     "data": {
      "text/plain": [
       "True"
      ]
     },
     "execution_count": 61,
     "metadata": {},
     "output_type": "execute_result"
    }
   ],
   "source": [
    "# gradient of sigmoid\n",
    "# https://towardsdatascience.com/derivative-of-the-sigmoid-function-536880cf918e\n",
    "def sigmoid_prime(x):\n",
    "    return sigmoid(x) * (1 - sigmoid(x))\n",
    "\n",
    "x, delta = .1, 1e-6\n",
    "((sigmoid(x + delta) - sigmoid(x)) / delta - sigmoid_prime(x)) < 1e-6"
   ]
  },
  {
   "cell_type": "code",
   "execution_count": null,
   "id": "afc62c90",
   "metadata": {},
   "outputs": [],
   "source": []
  },
  {
   "cell_type": "code",
   "execution_count": 396,
   "id": "9f014a6f",
   "metadata": {},
   "outputs": [
    {
     "name": "stdout",
     "output_type": "stream",
     "text": [
      "1.0 0.0 0.5\n"
     ]
    }
   ],
   "source": [
    "def auc(label, score):\n",
    "    \"\"\"Assuming no ties in score.\"\"\"\n",
    "    label, score = np.array(label, dtype=bool), np.array(score, dtype=float)\n",
    "    return (score[label] > score[~label].reshape(-1, 1)).mean()\n",
    "\n",
    "print(auc([0, 0, 1, 1], [.2, .4, .6, .8]), \n",
    "      auc([1, 1, 0, 0], [.2, .4, .6, .8]),\n",
    "      auc([0, 1, 1, 0], [.2, .4, .6, .8]))"
   ]
  },
  {
   "cell_type": "code",
   "execution_count": 397,
   "id": "7ae46323",
   "metadata": {},
   "outputs": [
    {
     "name": "stdout",
     "output_type": "stream",
     "text": [
      "0.3669845875401002 1.2628643221541278 0.814924454847114\n"
     ]
    }
   ],
   "source": [
    "def log_loss(label, score):\n",
    "    label, score = np.array(label, dtype=bool), np.array(score, dtype=float)    \n",
    "    return -1. / len(label) * (label * np.log(score) + (1 - label) * np.log(1 - score)).sum() \n",
    "\n",
    "print(log_loss([0, 0, 1, 1], [.2, .4, .6, .8]), \n",
    "      log_loss([1, 1, 0, 0], [.2, .4, .6, .8]),\n",
    "      log_loss([0, 1, 1, 0], [.2, .4, .6, .8]))"
   ]
  },
  {
   "cell_type": "code",
   "execution_count": 519,
   "id": "553db2a0",
   "metadata": {},
   "outputs": [
    {
     "data": {
      "text/plain": [
       "0.5217"
      ]
     },
     "execution_count": 519,
     "metadata": {},
     "output_type": "execute_result"
    }
   ],
   "source": [
    "np.random.seed(1234)\n",
    "n, m = 10000, 20\n",
    "X = np.random.randn(n, m)\n",
    "true_coef = np.random.randn(m)\n",
    "true_bias = np.random.randn()\n",
    "noise = 3 * np.random.randn(n)\n",
    "y = (sigmoid(X.dot(true_coef) + true_bias + noise) < .5).astype(int)\n",
    "y.mean()"
   ]
  },
  {
   "cell_type": "code",
   "execution_count": 510,
   "id": "beb7a6e0",
   "metadata": {},
   "outputs": [
    {
     "data": {
      "text/plain": [
       "(10000,)"
      ]
     },
     "execution_count": 510,
     "metadata": {},
     "output_type": "execute_result"
    }
   ],
   "source": [
    "X.dot(true_coef).shape"
   ]
  },
  {
   "cell_type": "code",
   "execution_count": 511,
   "id": "333a5aae",
   "metadata": {},
   "outputs": [],
   "source": [
    "np.random.seed(123)\n",
    "frac_test = .2\n",
    "test_idx = np.random.random(len(X)) < frac_test\n",
    "X_train, X_test, y_train, y_test = X[~test_idx], X[test_idx], y[~test_idx], y[test_idx]"
   ]
  },
  {
   "cell_type": "code",
   "execution_count": 512,
   "id": "12572180",
   "metadata": {},
   "outputs": [
    {
     "name": "stdout",
     "output_type": "stream",
     "text": [
      "1.1864270523884 0.5315228927209636\n"
     ]
    }
   ],
   "source": [
    "np.random.seed(456)\n",
    "coef = np.random.random(m)\n",
    "bias = np.random.randn()\n",
    "y_pred = sigmoid(X_train.dot(coef) + bias)\n",
    "print(log_loss(y_train, y_pred), auc(y_train, y_pred))"
   ]
  },
  {
   "cell_type": "code",
   "execution_count": 515,
   "id": "386a3ba5",
   "metadata": {},
   "outputs": [
    {
     "name": "stdout",
     "output_type": "stream",
     "text": [
      "LL 0.6450  AUC 0.6744\n",
      "LL 0.6450  AUC 0.6744\n",
      "LL 0.6450  AUC 0.6744\n",
      "LL 0.6450  AUC 0.6744\n",
      "LL 0.6450  AUC 0.6744\n",
      "LL 0.6450  AUC 0.6744\n",
      "LL 0.6450  AUC 0.6744\n",
      "LL 0.6450  AUC 0.6744\n",
      "LL 0.6450  AUC 0.6744\n",
      "LL 0.6450  AUC 0.6744\n"
     ]
    }
   ],
   "source": [
    "rate = 0.01\n",
    "n_steps = 2000\n",
    "stats = []\n",
    "for i in range(n_steps):\n",
    "    gr = 1. / len(X) * (sigmoid(X_train.dot(coef) + bias) - y_train)\n",
    "    coef_grad = gr.dot(X_train)\n",
    "    bias_grad = gr.sum() * 1\n",
    "    coef, bias = coef - rate * coef_grad, bias - rate * bias_grad  # want to minimize\n",
    "    y_pred = sigmoid(X_train.dot(coef) + bias)\n",
    "    if i % (n_steps // 100) == 0:\n",
    "        ll, ac = log_loss(y_train, y_pred), auc(y_train, y_pred)\n",
    "        y_pred_test = sigmoid(X_test.dot(coef) + bias)\n",
    "        ll_test, ac_test = log_loss(y_test, y_pred_test), auc(y_test, y_pred_test)\n",
    "        stats.append({\n",
    "            'i': i,\n",
    "            'll': ll,\n",
    "            'auc': ac,\n",
    "            'll_test': ll_test, \n",
    "            'auc_test': ac_test,\n",
    "        })\n",
    "        if i % (n_steps // 10) == 0:\n",
    "            print(\"LL %.4f  AUC %.4f\" % (ll, ac))\n",
    "stats = pd.DataFrame(stats).set_index('i')"
   ]
  },
  {
   "cell_type": "code",
   "execution_count": 516,
   "id": "c47bd0a9",
   "metadata": {},
   "outputs": [
    {
     "data": {
      "text/html": [
       "<div>\n",
       "<style scoped>\n",
       "    .dataframe tbody tr th:only-of-type {\n",
       "        vertical-align: middle;\n",
       "    }\n",
       "\n",
       "    .dataframe tbody tr th {\n",
       "        vertical-align: top;\n",
       "    }\n",
       "\n",
       "    .dataframe thead th {\n",
       "        text-align: right;\n",
       "    }\n",
       "</style>\n",
       "<table border=\"1\" class=\"dataframe\">\n",
       "  <thead>\n",
       "    <tr style=\"text-align: right;\">\n",
       "      <th></th>\n",
       "      <th>ll</th>\n",
       "      <th>auc</th>\n",
       "      <th>ll_test</th>\n",
       "      <th>auc_test</th>\n",
       "    </tr>\n",
       "    <tr>\n",
       "      <th>i</th>\n",
       "      <th></th>\n",
       "      <th></th>\n",
       "      <th></th>\n",
       "      <th></th>\n",
       "    </tr>\n",
       "  </thead>\n",
       "  <tbody>\n",
       "    <tr>\n",
       "      <th>0</th>\n",
       "      <td>0.645042</td>\n",
       "      <td>0.674407</td>\n",
       "      <td>0.647077</td>\n",
       "      <td>0.666405</td>\n",
       "    </tr>\n",
       "    <tr>\n",
       "      <th>20</th>\n",
       "      <td>0.645042</td>\n",
       "      <td>0.674404</td>\n",
       "      <td>0.647077</td>\n",
       "      <td>0.666407</td>\n",
       "    </tr>\n",
       "    <tr>\n",
       "      <th>40</th>\n",
       "      <td>0.645042</td>\n",
       "      <td>0.674405</td>\n",
       "      <td>0.647076</td>\n",
       "      <td>0.666397</td>\n",
       "    </tr>\n",
       "    <tr>\n",
       "      <th>60</th>\n",
       "      <td>0.645042</td>\n",
       "      <td>0.674406</td>\n",
       "      <td>0.647076</td>\n",
       "      <td>0.666397</td>\n",
       "    </tr>\n",
       "    <tr>\n",
       "      <th>80</th>\n",
       "      <td>0.645042</td>\n",
       "      <td>0.674406</td>\n",
       "      <td>0.647076</td>\n",
       "      <td>0.666396</td>\n",
       "    </tr>\n",
       "  </tbody>\n",
       "</table>\n",
       "</div>"
      ],
      "text/plain": [
       "          ll       auc   ll_test  auc_test\n",
       "i                                         \n",
       "0   0.645042  0.674407  0.647077  0.666405\n",
       "20  0.645042  0.674404  0.647077  0.666407\n",
       "40  0.645042  0.674405  0.647076  0.666397\n",
       "60  0.645042  0.674406  0.647076  0.666397\n",
       "80  0.645042  0.674406  0.647076  0.666396"
      ]
     },
     "execution_count": 516,
     "metadata": {},
     "output_type": "execute_result"
    }
   ],
   "source": [
    "stats.head()"
   ]
  },
  {
   "cell_type": "code",
   "execution_count": 517,
   "id": "05ae25e5",
   "metadata": {},
   "outputs": [
    {
     "data": {
      "text/plain": [
       "(1800.0, 2000.0)"
      ]
     },
     "execution_count": 517,
     "metadata": {},
     "output_type": "execute_result"
    },
    {
     "data": {
      "image/png": "[encoded data removed]",
      "text/plain": [
       "<Figure size 640x480 with 1 Axes>"
      ]
     },
     "metadata": {},
     "output_type": "display_data"
    }
   ],
   "source": [
    "ax = stats[['ll', 'll_test']].plot()\n",
    "ax.set_xlim(1800, 2000)\n",
    "# [['ll', 'auc']].plot()"
   ]
  },
  {
   "cell_type": "code",
   "execution_count": 518,
   "id": "f1ae7d4c",
   "metadata": {},
   "outputs": [
    {
     "data": {
      "text/plain": [
       "(1800.0, 2000.0)"
      ]
     },
     "execution_count": 518,
     "metadata": {},
     "output_type": "execute_result"
    },
    {
     "data": {
      "image/png": "[encoded data removed]",
      "text/plain": [
       "<Figure size 640x480 with 1 Axes>"
      ]
     },
     "metadata": {},
     "output_type": "display_data"
    }
   ],
   "source": [
    "ax = stats[['auc', 'auc_test']].plot()\n",
    "# ax.set_ylim(.98, 1), \n",
    "ax.set_xlim(1800, 2000)"
   ]
  },
  {
   "cell_type": "code",
   "execution_count": null,
   "id": "ec62c9e5",
   "metadata": {},
   "outputs": [],
   "source": []
  },
  {
   "cell_type": "code",
   "execution_count": null,
   "id": "1605aaaa",
   "metadata": {},
   "outputs": [],
   "source": []
  }
 ],
 "metadata": {
  "kernelspec": {
   "display_name": "Python 3 (ipykernel)",
   "language": "python",
   "name": "python3"
  },
  "language_info": {
   "codemirror_mode": {
    "name": "ipython",
    "version": 3
   },
   "file_extension": ".py",
   "mimetype": "text/x-python",
   "name": "python",
   "nbconvert_exporter": "python",
   "pygments_lexer": "ipython3",
   "version": "3.11.7"
  }
 },
 "nbformat": 4,
 "nbformat_minor": 5
}
